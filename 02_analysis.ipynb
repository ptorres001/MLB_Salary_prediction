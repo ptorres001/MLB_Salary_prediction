{
 "cells": [
  {
   "cell_type": "markdown",
   "metadata": {},
   "source": [
    "# Mod2 Project - Linear Regression Model\n",
    "\n",
    "Second Notebook"
   ]
  },
  {
   "cell_type": "markdown",
   "metadata": {},
   "source": [
    "## Data Analysis\n",
    "\n",
    "In this notebook, we begin our data analysis. In it we: \n",
    "\n",
    "\n",
    "    a) show distributions\n",
    "    b) confirm that outliers are removed\n",
    "    c) beging to run hypothesis tests on features.\n",
    "\n",
    "The goal is to create a model that can efficiently and accurately predict a players fourth year salary after arbitration."
   ]
  },
  {
   "cell_type": "code",
   "execution_count": 83,
   "metadata": {},
   "outputs": [],
   "source": [
    "import pandas as pd\n",
    "import numpy as np \n",
    "import seaborn as sns\n",
    "import matplotlib.pyplot as plt\n",
    "from sklearn.model_selection import train_test_split\n",
    "from sklearn.linear_model import LinearRegression\n",
    "from sklearn import metrics\n",
    "import statsmodels.api as sm\n",
    "import statsmodels.stats as sms\n",
    "from statsmodels.formula.api import ols\n",
    "from sklearn.dummy import DummyRegressor\n",
    "from sklearn import linear_model\n",
    "from sklearn import metrics\n",
    "from sklearn.preprocessing import PolynomialFeatures\n",
    "from sklearn.preprocessing import StandardScaler\n",
    "from statsmodels.stats.outliers_influence import variance_inflation_factor\n",
    "import scipy.stats as stats\n",
    "import random\n",
    "from statsmodels.stats import weightstats as stests\n",
    "from scipy.stats import ttest_ind\n",
    "\n",
    "sns.set(style=\"whitegrid\")\n",
    "sns.set(rc={'figure.figsize':(15,10)})\n",
    "plt.style.use('seaborn')\n",
    "\n",
    "import warnings\n",
    "warnings.filterwarnings(\"ignore\")\n",
    "pd.set_option('display.max_columns', 300)\n",
    "pd.set_option('display.max_rows', 80)\n",
    "\n",
    "%matplotlib inline"
   ]
  },
  {
   "cell_type": "markdown",
   "metadata": {},
   "source": [
    "# \n",
    "Below is the dataset created after extensive cleaning in the first notebook."
   ]
  },
  {
   "cell_type": "code",
   "execution_count": 86,
   "metadata": {},
   "outputs": [
    {
     "data": {
      "text/html": [
       "<div>\n",
       "<style scoped>\n",
       "    .dataframe tbody tr th:only-of-type {\n",
       "        vertical-align: middle;\n",
       "    }\n",
       "\n",
       "    .dataframe tbody tr th {\n",
       "        vertical-align: top;\n",
       "    }\n",
       "\n",
       "    .dataframe thead th {\n",
       "        text-align: right;\n",
       "    }\n",
       "</style>\n",
       "<table border=\"1\" class=\"dataframe\">\n",
       "  <thead>\n",
       "    <tr style=\"text-align: right;\">\n",
       "      <th></th>\n",
       "      <th>Unnamed: 0</th>\n",
       "      <th>playerID</th>\n",
       "      <th>birthYear</th>\n",
       "      <th>nameFirst</th>\n",
       "      <th>nameLast</th>\n",
       "      <th>weight</th>\n",
       "      <th>height</th>\n",
       "      <th>debut</th>\n",
       "      <th>finalGame</th>\n",
       "      <th>award_winner</th>\n",
       "      <th>G</th>\n",
       "      <th>AB</th>\n",
       "      <th>R</th>\n",
       "      <th>H</th>\n",
       "      <th>DBL</th>\n",
       "      <th>TPL</th>\n",
       "      <th>HR</th>\n",
       "      <th>RBI</th>\n",
       "      <th>SB</th>\n",
       "      <th>CS</th>\n",
       "      <th>BB</th>\n",
       "      <th>SO</th>\n",
       "      <th>IBB</th>\n",
       "      <th>HBP</th>\n",
       "      <th>SH</th>\n",
       "      <th>SF</th>\n",
       "      <th>GIDP</th>\n",
       "      <th>OBP</th>\n",
       "      <th>BA</th>\n",
       "      <th>TB</th>\n",
       "      <th>SLG</th>\n",
       "      <th>OPS</th>\n",
       "      <th>salary</th>\n",
       "      <th>seasons</th>\n",
       "      <th>G_p</th>\n",
       "      <th>W_p</th>\n",
       "      <th>L_p</th>\n",
       "      <th>GS_p</th>\n",
       "      <th>CG</th>\n",
       "      <th>SHO_p</th>\n",
       "      <th>SV_p</th>\n",
       "      <th>IPouts</th>\n",
       "      <th>ER_p</th>\n",
       "      <th>HR_p</th>\n",
       "      <th>SO_p</th>\n",
       "      <th>IBB_p</th>\n",
       "      <th>BAOpp</th>\n",
       "      <th>ERA</th>\n",
       "      <th>WP</th>\n",
       "      <th>HBP_p</th>\n",
       "      <th>BK</th>\n",
       "      <th>BFP</th>\n",
       "      <th>GF</th>\n",
       "      <th>R_p</th>\n",
       "      <th>SH_p</th>\n",
       "      <th>SF_p</th>\n",
       "      <th>GIDP_p</th>\n",
       "      <th>WHIP</th>\n",
       "      <th>IP</th>\n",
       "      <th>BB_p</th>\n",
       "      <th>throws_R</th>\n",
       "      <th>bats_L</th>\n",
       "      <th>bats_R</th>\n",
       "      <th>prim_pos_2B</th>\n",
       "      <th>prim_pos_3B</th>\n",
       "      <th>prim_pos_C</th>\n",
       "      <th>prim_pos_OF</th>\n",
       "      <th>prim_pos_P</th>\n",
       "      <th>prim_pos_SS</th>\n",
       "      <th>birthCountry_CAN</th>\n",
       "      <th>birthCountry_Colombia</th>\n",
       "      <th>birthCountry_Cuba</th>\n",
       "      <th>birthCountry_Curacao</th>\n",
       "      <th>birthCountry_D.R.</th>\n",
       "      <th>birthCountry_Germany</th>\n",
       "      <th>birthCountry_Jamaica</th>\n",
       "      <th>birthCountry_Japan</th>\n",
       "      <th>birthCountry_Mexico</th>\n",
       "      <th>birthCountry_Netherlands</th>\n",
       "      <th>birthCountry_Nicaragua</th>\n",
       "      <th>birthCountry_P.R.</th>\n",
       "      <th>birthCountry_Panama</th>\n",
       "      <th>birthCountry_South Korea</th>\n",
       "      <th>birthCountry_Taiwan</th>\n",
       "      <th>birthCountry_USA</th>\n",
       "      <th>birthCountry_Venezuela</th>\n",
       "      <th>throws</th>\n",
       "      <th>prim_pos</th>\n",
       "    </tr>\n",
       "  </thead>\n",
       "  <tbody>\n",
       "    <tr>\n",
       "      <th>0</th>\n",
       "      <td>0</td>\n",
       "      <td>aardsda01</td>\n",
       "      <td>1981.0</td>\n",
       "      <td>David</td>\n",
       "      <td>Aardsma</td>\n",
       "      <td>215.0</td>\n",
       "      <td>75.0</td>\n",
       "      <td>2004-04-06</td>\n",
       "      <td>2015-08-23</td>\n",
       "      <td>0</td>\n",
       "      <td>27.000000</td>\n",
       "      <td>0.666667</td>\n",
       "      <td>0.000000</td>\n",
       "      <td>0.000000</td>\n",
       "      <td>0.000000</td>\n",
       "      <td>0.000000</td>\n",
       "      <td>0.000000</td>\n",
       "      <td>0.000000</td>\n",
       "      <td>0.000000</td>\n",
       "      <td>0.000000</td>\n",
       "      <td>0.000000</td>\n",
       "      <td>0.000000</td>\n",
       "      <td>0.000000</td>\n",
       "      <td>0.000000</td>\n",
       "      <td>0.333333</td>\n",
       "      <td>0.000000</td>\n",
       "      <td>0.000000</td>\n",
       "      <td>0.000000</td>\n",
       "      <td>0.000000</td>\n",
       "      <td>0.000000</td>\n",
       "      <td>0.000000</td>\n",
       "      <td>0.000000</td>\n",
       "      <td>419000.0</td>\n",
       "      <td>7.0</td>\n",
       "      <td>27.000000</td>\n",
       "      <td>2.000000</td>\n",
       "      <td>0.333333</td>\n",
       "      <td>0.0</td>\n",
       "      <td>0.0</td>\n",
       "      <td>0.0</td>\n",
       "      <td>0.0</td>\n",
       "      <td>96.000000</td>\n",
       "      <td>18.333333</td>\n",
       "      <td>4.666667</td>\n",
       "      <td>30.000000</td>\n",
       "      <td>1.000000</td>\n",
       "      <td>0.310333</td>\n",
       "      <td>5.742511</td>\n",
       "      <td>1.000000</td>\n",
       "      <td>1.333333</td>\n",
       "      <td>0.000000</td>\n",
       "      <td>145.666667</td>\n",
       "      <td>7.000000</td>\n",
       "      <td>19.000000</td>\n",
       "      <td>1.000000</td>\n",
       "      <td>1.666667</td>\n",
       "      <td>1.333333</td>\n",
       "      <td>1.948782</td>\n",
       "      <td>32.000000</td>\n",
       "      <td>18.333333</td>\n",
       "      <td>1</td>\n",
       "      <td>0</td>\n",
       "      <td>1</td>\n",
       "      <td>0</td>\n",
       "      <td>0</td>\n",
       "      <td>0</td>\n",
       "      <td>0</td>\n",
       "      <td>1</td>\n",
       "      <td>0</td>\n",
       "      <td>0</td>\n",
       "      <td>0</td>\n",
       "      <td>0</td>\n",
       "      <td>0</td>\n",
       "      <td>0</td>\n",
       "      <td>0</td>\n",
       "      <td>0</td>\n",
       "      <td>0</td>\n",
       "      <td>0</td>\n",
       "      <td>0</td>\n",
       "      <td>0</td>\n",
       "      <td>0</td>\n",
       "      <td>0</td>\n",
       "      <td>0</td>\n",
       "      <td>0</td>\n",
       "      <td>1</td>\n",
       "      <td>0</td>\n",
       "      <td>R</td>\n",
       "      <td>P</td>\n",
       "    </tr>\n",
       "    <tr>\n",
       "      <th>1</th>\n",
       "      <td>1</td>\n",
       "      <td>abadfe01</td>\n",
       "      <td>1985.0</td>\n",
       "      <td>Fernando</td>\n",
       "      <td>Abad</td>\n",
       "      <td>235.0</td>\n",
       "      <td>74.0</td>\n",
       "      <td>2010-07-28</td>\n",
       "      <td>2019-09-28</td>\n",
       "      <td>0</td>\n",
       "      <td>29.333333</td>\n",
       "      <td>2.666667</td>\n",
       "      <td>0.000000</td>\n",
       "      <td>0.333333</td>\n",
       "      <td>0.000000</td>\n",
       "      <td>0.000000</td>\n",
       "      <td>0.000000</td>\n",
       "      <td>0.000000</td>\n",
       "      <td>0.000000</td>\n",
       "      <td>0.000000</td>\n",
       "      <td>0.000000</td>\n",
       "      <td>1.333333</td>\n",
       "      <td>0.000000</td>\n",
       "      <td>0.000000</td>\n",
       "      <td>0.000000</td>\n",
       "      <td>0.000000</td>\n",
       "      <td>0.333333</td>\n",
       "      <td>0.047619</td>\n",
       "      <td>0.047619</td>\n",
       "      <td>0.333333</td>\n",
       "      <td>0.047619</td>\n",
       "      <td>0.095238</td>\n",
       "      <td>1087500.0</td>\n",
       "      <td>5.0</td>\n",
       "      <td>29.333333</td>\n",
       "      <td>0.333333</td>\n",
       "      <td>3.666667</td>\n",
       "      <td>2.0</td>\n",
       "      <td>0.0</td>\n",
       "      <td>0.0</td>\n",
       "      <td>0.0</td>\n",
       "      <td>84.666667</td>\n",
       "      <td>16.000000</td>\n",
       "      <td>4.666667</td>\n",
       "      <td>21.666667</td>\n",
       "      <td>0.333333</td>\n",
       "      <td>0.279000</td>\n",
       "      <td>5.083699</td>\n",
       "      <td>1.333333</td>\n",
       "      <td>1.333333</td>\n",
       "      <td>0.000000</td>\n",
       "      <td>127.666667</td>\n",
       "      <td>5.000000</td>\n",
       "      <td>17.000000</td>\n",
       "      <td>1.000000</td>\n",
       "      <td>1.333333</td>\n",
       "      <td>1.333333</td>\n",
       "      <td>1.511177</td>\n",
       "      <td>28.222222</td>\n",
       "      <td>11.000000</td>\n",
       "      <td>0</td>\n",
       "      <td>1</td>\n",
       "      <td>0</td>\n",
       "      <td>0</td>\n",
       "      <td>0</td>\n",
       "      <td>0</td>\n",
       "      <td>0</td>\n",
       "      <td>1</td>\n",
       "      <td>0</td>\n",
       "      <td>0</td>\n",
       "      <td>0</td>\n",
       "      <td>0</td>\n",
       "      <td>0</td>\n",
       "      <td>1</td>\n",
       "      <td>0</td>\n",
       "      <td>0</td>\n",
       "      <td>0</td>\n",
       "      <td>0</td>\n",
       "      <td>0</td>\n",
       "      <td>0</td>\n",
       "      <td>0</td>\n",
       "      <td>0</td>\n",
       "      <td>0</td>\n",
       "      <td>0</td>\n",
       "      <td>0</td>\n",
       "      <td>0</td>\n",
       "      <td>L</td>\n",
       "      <td>P</td>\n",
       "    </tr>\n",
       "    <tr>\n",
       "      <th>2</th>\n",
       "      <td>2</td>\n",
       "      <td>abreuto01</td>\n",
       "      <td>1984.0</td>\n",
       "      <td>Tony</td>\n",
       "      <td>Abreu</td>\n",
       "      <td>200.0</td>\n",
       "      <td>70.0</td>\n",
       "      <td>2007-05-22</td>\n",
       "      <td>2014-07-28</td>\n",
       "      <td>0</td>\n",
       "      <td>48.666667</td>\n",
       "      <td>122.333333</td>\n",
       "      <td>11.666667</td>\n",
       "      <td>30.666667</td>\n",
       "      <td>8.333333</td>\n",
       "      <td>0.666667</td>\n",
       "      <td>1.000000</td>\n",
       "      <td>10.333333</td>\n",
       "      <td>0.666667</td>\n",
       "      <td>0.666667</td>\n",
       "      <td>4.666667</td>\n",
       "      <td>23.333333</td>\n",
       "      <td>0.333333</td>\n",
       "      <td>1.000000</td>\n",
       "      <td>0.000000</td>\n",
       "      <td>2.000000</td>\n",
       "      <td>4.333333</td>\n",
       "      <td>0.335772</td>\n",
       "      <td>0.251415</td>\n",
       "      <td>53.333333</td>\n",
       "      <td>0.379815</td>\n",
       "      <td>0.715586</td>\n",
       "      <td>745000.0</td>\n",
       "      <td>4.0</td>\n",
       "      <td>0.000000</td>\n",
       "      <td>0.000000</td>\n",
       "      <td>0.000000</td>\n",
       "      <td>0.0</td>\n",
       "      <td>0.0</td>\n",
       "      <td>0.0</td>\n",
       "      <td>0.0</td>\n",
       "      <td>0.000000</td>\n",
       "      <td>0.000000</td>\n",
       "      <td>0.000000</td>\n",
       "      <td>0.000000</td>\n",
       "      <td>0.000000</td>\n",
       "      <td>0.000000</td>\n",
       "      <td>0.000000</td>\n",
       "      <td>0.000000</td>\n",
       "      <td>0.000000</td>\n",
       "      <td>0.000000</td>\n",
       "      <td>0.000000</td>\n",
       "      <td>0.000000</td>\n",
       "      <td>0.000000</td>\n",
       "      <td>0.000000</td>\n",
       "      <td>0.000000</td>\n",
       "      <td>0.000000</td>\n",
       "      <td>0.000000</td>\n",
       "      <td>0.000000</td>\n",
       "      <td>0.000000</td>\n",
       "      <td>1</td>\n",
       "      <td>0</td>\n",
       "      <td>0</td>\n",
       "      <td>1</td>\n",
       "      <td>0</td>\n",
       "      <td>0</td>\n",
       "      <td>0</td>\n",
       "      <td>0</td>\n",
       "      <td>0</td>\n",
       "      <td>0</td>\n",
       "      <td>0</td>\n",
       "      <td>0</td>\n",
       "      <td>0</td>\n",
       "      <td>1</td>\n",
       "      <td>0</td>\n",
       "      <td>0</td>\n",
       "      <td>0</td>\n",
       "      <td>0</td>\n",
       "      <td>0</td>\n",
       "      <td>0</td>\n",
       "      <td>0</td>\n",
       "      <td>0</td>\n",
       "      <td>0</td>\n",
       "      <td>0</td>\n",
       "      <td>0</td>\n",
       "      <td>0</td>\n",
       "      <td>R</td>\n",
       "      <td>2B</td>\n",
       "    </tr>\n",
       "    <tr>\n",
       "      <th>3</th>\n",
       "      <td>3</td>\n",
       "      <td>accarje01</td>\n",
       "      <td>1981.0</td>\n",
       "      <td>Jeremy</td>\n",
       "      <td>Accardo</td>\n",
       "      <td>195.0</td>\n",
       "      <td>72.0</td>\n",
       "      <td>2005-05-04</td>\n",
       "      <td>2012-09-27</td>\n",
       "      <td>0</td>\n",
       "      <td>52.333333</td>\n",
       "      <td>2.333333</td>\n",
       "      <td>0.000000</td>\n",
       "      <td>0.333333</td>\n",
       "      <td>0.000000</td>\n",
       "      <td>0.000000</td>\n",
       "      <td>0.000000</td>\n",
       "      <td>0.000000</td>\n",
       "      <td>0.000000</td>\n",
       "      <td>0.000000</td>\n",
       "      <td>0.000000</td>\n",
       "      <td>0.333333</td>\n",
       "      <td>0.000000</td>\n",
       "      <td>0.000000</td>\n",
       "      <td>0.000000</td>\n",
       "      <td>0.000000</td>\n",
       "      <td>0.000000</td>\n",
       "      <td>0.166667</td>\n",
       "      <td>0.166667</td>\n",
       "      <td>0.333333</td>\n",
       "      <td>0.166667</td>\n",
       "      <td>0.333333</td>\n",
       "      <td>1080000.0</td>\n",
       "      <td>5.0</td>\n",
       "      <td>52.333333</td>\n",
       "      <td>2.333333</td>\n",
       "      <td>4.333333</td>\n",
       "      <td>0.0</td>\n",
       "      <td>0.0</td>\n",
       "      <td>0.0</td>\n",
       "      <td>11.0</td>\n",
       "      <td>166.000000</td>\n",
       "      <td>23.333333</td>\n",
       "      <td>4.333333</td>\n",
       "      <td>42.333333</td>\n",
       "      <td>2.666667</td>\n",
       "      <td>0.336667</td>\n",
       "      <td>5.652214</td>\n",
       "      <td>1.666667</td>\n",
       "      <td>1.333333</td>\n",
       "      <td>0.666667</td>\n",
       "      <td>232.000000</td>\n",
       "      <td>27.333333</td>\n",
       "      <td>24.666667</td>\n",
       "      <td>0.666667</td>\n",
       "      <td>2.000000</td>\n",
       "      <td>3.000000</td>\n",
       "      <td>1.716016</td>\n",
       "      <td>55.333333</td>\n",
       "      <td>17.666667</td>\n",
       "      <td>1</td>\n",
       "      <td>0</td>\n",
       "      <td>1</td>\n",
       "      <td>0</td>\n",
       "      <td>0</td>\n",
       "      <td>0</td>\n",
       "      <td>0</td>\n",
       "      <td>1</td>\n",
       "      <td>0</td>\n",
       "      <td>0</td>\n",
       "      <td>0</td>\n",
       "      <td>0</td>\n",
       "      <td>0</td>\n",
       "      <td>0</td>\n",
       "      <td>0</td>\n",
       "      <td>0</td>\n",
       "      <td>0</td>\n",
       "      <td>0</td>\n",
       "      <td>0</td>\n",
       "      <td>0</td>\n",
       "      <td>0</td>\n",
       "      <td>0</td>\n",
       "      <td>0</td>\n",
       "      <td>0</td>\n",
       "      <td>1</td>\n",
       "      <td>0</td>\n",
       "      <td>R</td>\n",
       "      <td>P</td>\n",
       "    </tr>\n",
       "    <tr>\n",
       "      <th>4</th>\n",
       "      <td>4</td>\n",
       "      <td>ackledu01</td>\n",
       "      <td>1988.0</td>\n",
       "      <td>Dustin</td>\n",
       "      <td>Ackley</td>\n",
       "      <td>205.0</td>\n",
       "      <td>73.0</td>\n",
       "      <td>2011-06-17</td>\n",
       "      <td>2016-05-29</td>\n",
       "      <td>0</td>\n",
       "      <td>118.666667</td>\n",
       "      <td>441.333333</td>\n",
       "      <td>54.333333</td>\n",
       "      <td>108.333333</td>\n",
       "      <td>18.666667</td>\n",
       "      <td>3.666667</td>\n",
       "      <td>7.333333</td>\n",
       "      <td>39.000000</td>\n",
       "      <td>7.000000</td>\n",
       "      <td>2.000000</td>\n",
       "      <td>45.333333</td>\n",
       "      <td>91.666667</td>\n",
       "      <td>3.000000</td>\n",
       "      <td>0.333333</td>\n",
       "      <td>1.666667</td>\n",
       "      <td>1.666667</td>\n",
       "      <td>4.000000</td>\n",
       "      <td>0.320469</td>\n",
       "      <td>0.250526</td>\n",
       "      <td>186.000000</td>\n",
       "      <td>0.431767</td>\n",
       "      <td>0.752236</td>\n",
       "      <td>2600000.0</td>\n",
       "      <td>5.0</td>\n",
       "      <td>0.000000</td>\n",
       "      <td>0.000000</td>\n",
       "      <td>0.000000</td>\n",
       "      <td>0.0</td>\n",
       "      <td>0.0</td>\n",
       "      <td>0.0</td>\n",
       "      <td>0.0</td>\n",
       "      <td>0.000000</td>\n",
       "      <td>0.000000</td>\n",
       "      <td>0.000000</td>\n",
       "      <td>0.000000</td>\n",
       "      <td>0.000000</td>\n",
       "      <td>0.000000</td>\n",
       "      <td>0.000000</td>\n",
       "      <td>0.000000</td>\n",
       "      <td>0.000000</td>\n",
       "      <td>0.000000</td>\n",
       "      <td>0.000000</td>\n",
       "      <td>0.000000</td>\n",
       "      <td>0.000000</td>\n",
       "      <td>0.000000</td>\n",
       "      <td>0.000000</td>\n",
       "      <td>0.000000</td>\n",
       "      <td>0.000000</td>\n",
       "      <td>0.000000</td>\n",
       "      <td>0.000000</td>\n",
       "      <td>1</td>\n",
       "      <td>1</td>\n",
       "      <td>0</td>\n",
       "      <td>0</td>\n",
       "      <td>0</td>\n",
       "      <td>0</td>\n",
       "      <td>0</td>\n",
       "      <td>0</td>\n",
       "      <td>0</td>\n",
       "      <td>0</td>\n",
       "      <td>0</td>\n",
       "      <td>0</td>\n",
       "      <td>0</td>\n",
       "      <td>0</td>\n",
       "      <td>0</td>\n",
       "      <td>0</td>\n",
       "      <td>0</td>\n",
       "      <td>0</td>\n",
       "      <td>0</td>\n",
       "      <td>0</td>\n",
       "      <td>0</td>\n",
       "      <td>0</td>\n",
       "      <td>0</td>\n",
       "      <td>0</td>\n",
       "      <td>1</td>\n",
       "      <td>0</td>\n",
       "      <td>R</td>\n",
       "      <td>1B</td>\n",
       "    </tr>\n",
       "  </tbody>\n",
       "</table>\n",
       "</div>"
      ],
      "text/plain": [
       "   Unnamed: 0   playerID  birthYear nameFirst nameLast  weight  height  \\\n",
       "0           0  aardsda01     1981.0     David  Aardsma   215.0    75.0   \n",
       "1           1   abadfe01     1985.0  Fernando     Abad   235.0    74.0   \n",
       "2           2  abreuto01     1984.0      Tony    Abreu   200.0    70.0   \n",
       "3           3  accarje01     1981.0    Jeremy  Accardo   195.0    72.0   \n",
       "4           4  ackledu01     1988.0    Dustin   Ackley   205.0    73.0   \n",
       "\n",
       "        debut   finalGame  award_winner           G          AB          R  \\\n",
       "0  2004-04-06  2015-08-23             0   27.000000    0.666667   0.000000   \n",
       "1  2010-07-28  2019-09-28             0   29.333333    2.666667   0.000000   \n",
       "2  2007-05-22  2014-07-28             0   48.666667  122.333333  11.666667   \n",
       "3  2005-05-04  2012-09-27             0   52.333333    2.333333   0.000000   \n",
       "4  2011-06-17  2016-05-29             0  118.666667  441.333333  54.333333   \n",
       "\n",
       "            H        DBL       TPL        HR        RBI        SB        CS  \\\n",
       "0    0.000000   0.000000  0.000000  0.000000   0.000000  0.000000  0.000000   \n",
       "1    0.333333   0.000000  0.000000  0.000000   0.000000  0.000000  0.000000   \n",
       "2   30.666667   8.333333  0.666667  1.000000  10.333333  0.666667  0.666667   \n",
       "3    0.333333   0.000000  0.000000  0.000000   0.000000  0.000000  0.000000   \n",
       "4  108.333333  18.666667  3.666667  7.333333  39.000000  7.000000  2.000000   \n",
       "\n",
       "          BB         SO       IBB       HBP        SH        SF      GIDP  \\\n",
       "0   0.000000   0.000000  0.000000  0.000000  0.333333  0.000000  0.000000   \n",
       "1   0.000000   1.333333  0.000000  0.000000  0.000000  0.000000  0.333333   \n",
       "2   4.666667  23.333333  0.333333  1.000000  0.000000  2.000000  4.333333   \n",
       "3   0.000000   0.333333  0.000000  0.000000  0.000000  0.000000  0.000000   \n",
       "4  45.333333  91.666667  3.000000  0.333333  1.666667  1.666667  4.000000   \n",
       "\n",
       "        OBP        BA          TB       SLG       OPS     salary  seasons  \\\n",
       "0  0.000000  0.000000    0.000000  0.000000  0.000000   419000.0      7.0   \n",
       "1  0.047619  0.047619    0.333333  0.047619  0.095238  1087500.0      5.0   \n",
       "2  0.335772  0.251415   53.333333  0.379815  0.715586   745000.0      4.0   \n",
       "3  0.166667  0.166667    0.333333  0.166667  0.333333  1080000.0      5.0   \n",
       "4  0.320469  0.250526  186.000000  0.431767  0.752236  2600000.0      5.0   \n",
       "\n",
       "         G_p       W_p       L_p  GS_p   CG  SHO_p  SV_p      IPouts  \\\n",
       "0  27.000000  2.000000  0.333333   0.0  0.0    0.0   0.0   96.000000   \n",
       "1  29.333333  0.333333  3.666667   2.0  0.0    0.0   0.0   84.666667   \n",
       "2   0.000000  0.000000  0.000000   0.0  0.0    0.0   0.0    0.000000   \n",
       "3  52.333333  2.333333  4.333333   0.0  0.0    0.0  11.0  166.000000   \n",
       "4   0.000000  0.000000  0.000000   0.0  0.0    0.0   0.0    0.000000   \n",
       "\n",
       "        ER_p      HR_p       SO_p     IBB_p     BAOpp       ERA        WP  \\\n",
       "0  18.333333  4.666667  30.000000  1.000000  0.310333  5.742511  1.000000   \n",
       "1  16.000000  4.666667  21.666667  0.333333  0.279000  5.083699  1.333333   \n",
       "2   0.000000  0.000000   0.000000  0.000000  0.000000  0.000000  0.000000   \n",
       "3  23.333333  4.333333  42.333333  2.666667  0.336667  5.652214  1.666667   \n",
       "4   0.000000  0.000000   0.000000  0.000000  0.000000  0.000000  0.000000   \n",
       "\n",
       "      HBP_p        BK         BFP         GF        R_p      SH_p      SF_p  \\\n",
       "0  1.333333  0.000000  145.666667   7.000000  19.000000  1.000000  1.666667   \n",
       "1  1.333333  0.000000  127.666667   5.000000  17.000000  1.000000  1.333333   \n",
       "2  0.000000  0.000000    0.000000   0.000000   0.000000  0.000000  0.000000   \n",
       "3  1.333333  0.666667  232.000000  27.333333  24.666667  0.666667  2.000000   \n",
       "4  0.000000  0.000000    0.000000   0.000000   0.000000  0.000000  0.000000   \n",
       "\n",
       "     GIDP_p      WHIP         IP       BB_p  throws_R  bats_L  bats_R  \\\n",
       "0  1.333333  1.948782  32.000000  18.333333         1       0       1   \n",
       "1  1.333333  1.511177  28.222222  11.000000         0       1       0   \n",
       "2  0.000000  0.000000   0.000000   0.000000         1       0       0   \n",
       "3  3.000000  1.716016  55.333333  17.666667         1       0       1   \n",
       "4  0.000000  0.000000   0.000000   0.000000         1       1       0   \n",
       "\n",
       "   prim_pos_2B  prim_pos_3B  prim_pos_C  prim_pos_OF  prim_pos_P  prim_pos_SS  \\\n",
       "0            0            0           0            0           1            0   \n",
       "1            0            0           0            0           1            0   \n",
       "2            1            0           0            0           0            0   \n",
       "3            0            0           0            0           1            0   \n",
       "4            0            0           0            0           0            0   \n",
       "\n",
       "   birthCountry_CAN  birthCountry_Colombia  birthCountry_Cuba  \\\n",
       "0                 0                      0                  0   \n",
       "1                 0                      0                  0   \n",
       "2                 0                      0                  0   \n",
       "3                 0                      0                  0   \n",
       "4                 0                      0                  0   \n",
       "\n",
       "   birthCountry_Curacao  birthCountry_D.R.  birthCountry_Germany  \\\n",
       "0                     0                  0                     0   \n",
       "1                     0                  1                     0   \n",
       "2                     0                  1                     0   \n",
       "3                     0                  0                     0   \n",
       "4                     0                  0                     0   \n",
       "\n",
       "   birthCountry_Jamaica  birthCountry_Japan  birthCountry_Mexico  \\\n",
       "0                     0                   0                    0   \n",
       "1                     0                   0                    0   \n",
       "2                     0                   0                    0   \n",
       "3                     0                   0                    0   \n",
       "4                     0                   0                    0   \n",
       "\n",
       "   birthCountry_Netherlands  birthCountry_Nicaragua  birthCountry_P.R.  \\\n",
       "0                         0                       0                  0   \n",
       "1                         0                       0                  0   \n",
       "2                         0                       0                  0   \n",
       "3                         0                       0                  0   \n",
       "4                         0                       0                  0   \n",
       "\n",
       "   birthCountry_Panama  birthCountry_South Korea  birthCountry_Taiwan  \\\n",
       "0                    0                         0                    0   \n",
       "1                    0                         0                    0   \n",
       "2                    0                         0                    0   \n",
       "3                    0                         0                    0   \n",
       "4                    0                         0                    0   \n",
       "\n",
       "   birthCountry_USA  birthCountry_Venezuela throws prim_pos  \n",
       "0                 1                       0      R        P  \n",
       "1                 0                       0      L        P  \n",
       "2                 0                       0      R       2B  \n",
       "3                 1                       0      R        P  \n",
       "4                 1                       0      R       1B  "
      ]
     },
     "execution_count": 86,
     "metadata": {},
     "output_type": "execute_result"
    }
   ],
   "source": [
    "df = pd.read_csv('rookie.csv')\n",
    "df.head()"
   ]
  },
  {
   "cell_type": "markdown",
   "metadata": {},
   "source": [
    "# \n",
    "Some visualizations to show the distributions amongst the data"
   ]
  },
  {
   "cell_type": "code",
   "execution_count": 87,
   "metadata": {},
   "outputs": [
    {
     "data": {
      "text/plain": [
       "prim_pos\n",
       "1B    15000000.0\n",
       "2B     6000000.0\n",
       "3B     6916667.0\n",
       "C     12500000.0\n",
       "OF    16083333.0\n",
       "P     14000000.0\n",
       "SS     6000000.0\n",
       "Name: salary, dtype: float64"
      ]
     },
     "execution_count": 87,
     "metadata": {},
     "output_type": "execute_result"
    }
   ],
   "source": [
    "df.groupby('prim_pos').salary.max()"
   ]
  },
  {
   "cell_type": "code",
   "execution_count": 88,
   "metadata": {},
   "outputs": [
    {
     "data": {
      "text/plain": [
       "prim_pos\n",
       "1B    2.872115e+06\n",
       "2B    1.917065e+06\n",
       "3B    2.620109e+06\n",
       "C     1.983812e+06\n",
       "OF    2.684265e+06\n",
       "P     2.314292e+06\n",
       "SS    2.264286e+06\n",
       "Name: salary, dtype: float64"
      ]
     },
     "execution_count": 88,
     "metadata": {},
     "output_type": "execute_result"
    }
   ],
   "source": [
    "df.groupby('prim_pos').salary.mean()"
   ]
  },
  {
   "cell_type": "markdown",
   "metadata": {},
   "source": [
    "# \n",
    "The distributions of salary differentiated by the primary position of a player."
   ]
  },
  {
   "cell_type": "code",
   "execution_count": 89,
   "metadata": {},
   "outputs": [
    {
     "data": {
      "image/png": "[encoded data removed]",
      "text/plain": [
       "<Figure size 1080x720 with 1 Axes>"
      ]
     },
     "metadata": {
      "needs_background": "light"
     },
     "output_type": "display_data"
    }
   ],
   "source": [
    "fig, axes = plt.subplots(figsize = (15,10))\n",
    "sns.boxplot(x = 'prim_pos', y = 'salary', data = df, palette='coolwarm')\n",
    "\n",
    "axes.set_ylabel('Salary in Millions')\n",
    "axes.set_xlabel('Primary Position')\n",
    "axes.set_title('Distribution of Salaries by Position')\n",
    "\n",
    "plt.savefig('PNG/sal_primpos.png', dpi=300, \n",
    "            bbox_inches= 'tight', padding_inches = 4, transparent = True )"
   ]
  },
  {
   "cell_type": "markdown",
   "metadata": {},
   "source": [
    "# \n",
    "In the two graphs below, you can see:\n",
    "    \n",
    "    a) The count of left handed batters is far smaller than the count of right handed batters\n",
    "    b) The average salary is higher for a left handed batter\n",
    "\n",
    "Why is that the case?"
   ]
  },
  {
   "cell_type": "code",
   "execution_count": 90,
   "metadata": {},
   "outputs": [
    {
     "data": {
      "image/png": "[encoded data removed]",
      "text/plain": [
       "<Figure size 720x720 with 1 Axes>"
      ]
     },
     "metadata": {
      "needs_background": "light"
     },
     "output_type": "display_data"
    }
   ],
   "source": [
    "\n",
    "fig, axes = plt.subplots(figsize = (10,10))\n",
    "\n",
    "\n",
    "sns.countplot(x= 'throws', data = df, palette = 'coolwarm')\n",
    "\n",
    "axes.set_ylabel('Count')\n",
    "axes.set_xlabel('Handedness')\n",
    "axes.set_title('Count of Left vs Right Handed Players')\n",
    "\n",
    "\n",
    "plt.savefig('PNG/right_left_play.png', dpi=300, \n",
    "            bbox_inches= 'tight', padding_inches = 4, transparent = True )"
   ]
  },
  {
   "cell_type": "code",
   "execution_count": 91,
   "metadata": {},
   "outputs": [
    {
     "data": {
      "image/png": "[encoded data removed]",
      "text/plain": [
       "<Figure size 720x720 with 1 Axes>"
      ]
     },
     "metadata": {
      "needs_background": "light"
     },
     "output_type": "display_data"
    }
   ],
   "source": [
    "x = df.groupby('throws').salary.median().reset_index()\n",
    "\n",
    "\n",
    "fig, axes = plt.subplots(figsize = (10,10))\n",
    "\n",
    "sns.barplot(x= 'throws',y = 'salary', data = x, palette='coolwarm')\n",
    "\n",
    "\n",
    "axes.set_ylabel('Mean Salary in Millions')\n",
    "axes.set_xlabel('Handedness')\n",
    "axes.set_title('Mean Salary Left vs Right Handed Players')\n",
    "\n",
    "\n",
    "\n",
    "plt.savefig('PNG/right_left_meansal.png', dpi=300, \n",
    "            bbox_inches= 'tight', padding_inches = 4, transparent = True )\n"
   ]
  },
  {
   "cell_type": "markdown",
   "metadata": {},
   "source": [
    "# The convention in baseball is that a pitcher has an advantage when thowing against someone who throws with the same hand.\n",
    "\n",
    "In plainer terms, a lefty pitcher has an advantage against a left handed batter. The same is true with right handed pitchers. \n",
    "\n",
    "The higher average can be attributed to two things:\n",
    "\n",
    "    a) the lack of sampling of left handed hitters shows bias in the data\n",
    "    b) the rarity of left handed hitters and the prevalence of right handed pitchers make them a more precious commodity"
   ]
  },
  {
   "cell_type": "code",
   "execution_count": 10,
   "metadata": {},
   "outputs": [
    {
     "data": {
      "text/plain": [
       "R    592\n",
       "L    165\n",
       "Name: throws, dtype: int64"
      ]
     },
     "execution_count": 10,
     "metadata": {},
     "output_type": "execute_result"
    }
   ],
   "source": [
    "df['throws'].value_counts()"
   ]
  },
  {
   "cell_type": "code",
   "execution_count": 92,
   "metadata": {},
   "outputs": [
    {
     "data": {
      "image/png": "[encoded data removed]",
      "text/plain": [
       "<Figure size 1080x720 with 1 Axes>"
      ]
     },
     "metadata": {
      "needs_background": "light"
     },
     "output_type": "display_data"
    }
   ],
   "source": [
    "fig, ax = plt.subplots(figsize = (15,10))\n",
    "\n",
    "df.salary[df.throws_R == 1].plot(kind = 'hist', bins = 30, alpha = 0.7, label = \"Righty\")\n",
    "df.salary[df.throws_R == 0].plot(kind = 'hist', bins = 30, alpha = 0.7, label = \"Lefty\", color = 'r')\n",
    "plt.legend()\n",
    "plt.title(\"Distribution of salary per handedness in Population\")\n",
    "plt.xlabel('Salary')\n",
    "plt.savefig('PNG/hand_salary_dist.png', dpi=300, \n",
    "            bbox_inches= 'tight', padding_inches = 4, transparent = True )"
   ]
  },
  {
   "cell_type": "markdown",
   "metadata": {},
   "source": [
    "## Statistic Tests\n",
    "\n",
    "In this section I will perform 3 tests on my data to make sure they have relevance to the question at hand. "
   ]
  },
  {
   "cell_type": "markdown",
   "metadata": {},
   "source": [
    "### Test 1: Two sample Proportion Z-test\n",
    "\n",
    "Null hypothesis: Do right and left handed players have different incidents of high earners?"
   ]
  },
  {
   "cell_type": "code",
   "execution_count": 93,
   "metadata": {},
   "outputs": [
    {
     "data": {
      "text/plain": [
       "2362716.705231388"
      ]
     },
     "execution_count": 93,
     "metadata": {},
     "output_type": "execute_result"
    }
   ],
   "source": [
    "df.salary.mean()"
   ]
  },
  {
   "cell_type": "code",
   "execution_count": 94,
   "metadata": {},
   "outputs": [
    {
     "data": {
      "text/plain": [
       "1949929.1737517042"
      ]
     },
     "execution_count": 94,
     "metadata": {},
     "output_type": "execute_result"
    }
   ],
   "source": [
    "df.salary.std()"
   ]
  },
  {
   "cell_type": "code",
   "execution_count": 95,
   "metadata": {},
   "outputs": [],
   "source": [
    "df_left = df[df.throws == 'L']\n",
    "df_right = df[df.throws == 'R']"
   ]
  },
  {
   "cell_type": "code",
   "execution_count": 96,
   "metadata": {},
   "outputs": [],
   "source": [
    "df_high_left = df_left[df_left.salary    >=  1700000]\n",
    "df_high_right = df_right[df_right.salary >=  1700000]"
   ]
  },
  {
   "cell_type": "code",
   "execution_count": 97,
   "metadata": {},
   "outputs": [
    {
     "name": "stdout",
     "output_type": "stream",
     "text": [
      "The p-value is: 0.7528712609631594. So we fail to reject the null hypothesis.\n"
     ]
    }
   ],
   "source": [
    "z, p = sms.proportion.proportions_ztest([len(df_high_left), len(df_high_right)], [len(df_left), len(df_right)])\n",
    "\n",
    "print('The p-value is: ' + str(p) + '. So we fail to reject the null hypothesis.')"
   ]
  },
  {
   "cell_type": "markdown",
   "metadata": {},
   "source": [
    "# \n",
    "We fail to reject the null hypothesis that there is no difference between left and right handed players in terms of large salaries"
   ]
  },
  {
   "cell_type": "markdown",
   "metadata": {},
   "source": [
    "### Test 2: ANOVA\n",
    "\n",
    "Null hypothesis: The means of the samples are equal"
   ]
  },
  {
   "cell_type": "code",
   "execution_count": 98,
   "metadata": {},
   "outputs": [
    {
     "data": {
      "text/html": [
       "<table class=\"simpletable\">\n",
       "<caption>OLS Regression Results</caption>\n",
       "<tr>\n",
       "  <th>Dep. Variable:</th>         <td>salary</td>      <th>  R-squared:         </th> <td>   0.019</td> \n",
       "</tr>\n",
       "<tr>\n",
       "  <th>Model:</th>                   <td>OLS</td>       <th>  Adj. R-squared:    </th> <td>   0.013</td> \n",
       "</tr>\n",
       "<tr>\n",
       "  <th>Method:</th>             <td>Least Squares</td>  <th>  F-statistic:       </th> <td>   3.194</td> \n",
       "</tr>\n",
       "<tr>\n",
       "  <th>Date:</th>             <td>Wed, 07 Oct 2020</td> <th>  Prob (F-statistic):</th>  <td>0.00413</td> \n",
       "</tr>\n",
       "<tr>\n",
       "  <th>Time:</th>                 <td>17:35:48</td>     <th>  Log-Likelihood:    </th> <td> -15797.</td> \n",
       "</tr>\n",
       "<tr>\n",
       "  <th>No. Observations:</th>      <td>   994</td>      <th>  AIC:               </th> <td>3.161e+04</td>\n",
       "</tr>\n",
       "<tr>\n",
       "  <th>Df Residuals:</th>          <td>   987</td>      <th>  BIC:               </th> <td>3.164e+04</td>\n",
       "</tr>\n",
       "<tr>\n",
       "  <th>Df Model:</th>              <td>     6</td>      <th>                     </th>     <td> </td>    \n",
       "</tr>\n",
       "<tr>\n",
       "  <th>Covariance Type:</th>      <td>nonrobust</td>    <th>                     </th>     <td> </td>    \n",
       "</tr>\n",
       "</table>\n",
       "<table class=\"simpletable\">\n",
       "<tr>\n",
       "         <td></td>           <th>coef</th>     <th>std err</th>      <th>t</th>      <th>P>|t|</th>  <th>[0.025</th>    <th>0.975]</th>  \n",
       "</tr>\n",
       "<tr>\n",
       "  <th>Intercept</th>      <td> 2.872e+06</td> <td> 2.27e+05</td> <td>   12.668</td> <td> 0.000</td> <td> 2.43e+06</td> <td> 3.32e+06</td>\n",
       "</tr>\n",
       "<tr>\n",
       "  <th>prim_pos[T.2B]</th> <td> -9.55e+05</td> <td> 2.97e+05</td> <td>   -3.216</td> <td> 0.001</td> <td>-1.54e+06</td> <td>-3.72e+05</td>\n",
       "</tr>\n",
       "<tr>\n",
       "  <th>prim_pos[T.3B]</th> <td> -2.52e+05</td> <td> 3.67e+05</td> <td>   -0.686</td> <td> 0.493</td> <td>-9.72e+05</td> <td> 4.68e+05</td>\n",
       "</tr>\n",
       "<tr>\n",
       "  <th>prim_pos[T.C]</th>  <td>-8.883e+05</td> <td> 3.16e+05</td> <td>   -2.807</td> <td> 0.005</td> <td>-1.51e+06</td> <td>-2.67e+05</td>\n",
       "</tr>\n",
       "<tr>\n",
       "  <th>prim_pos[T.OF]</th> <td>-1.878e+05</td> <td> 2.72e+05</td> <td>   -0.691</td> <td> 0.490</td> <td>-7.22e+05</td> <td> 3.46e+05</td>\n",
       "</tr>\n",
       "<tr>\n",
       "  <th>prim_pos[T.P]</th>  <td>-5.578e+05</td> <td> 2.43e+05</td> <td>   -2.297</td> <td> 0.022</td> <td>-1.03e+06</td> <td>-8.12e+04</td>\n",
       "</tr>\n",
       "<tr>\n",
       "  <th>prim_pos[T.SS]</th> <td>-6.078e+05</td> <td> 3.95e+05</td> <td>   -1.541</td> <td> 0.124</td> <td>-1.38e+06</td> <td> 1.66e+05</td>\n",
       "</tr>\n",
       "</table>\n",
       "<table class=\"simpletable\">\n",
       "<tr>\n",
       "  <th>Omnibus:</th>       <td>516.916</td> <th>  Durbin-Watson:     </th> <td>   1.907</td>\n",
       "</tr>\n",
       "<tr>\n",
       "  <th>Prob(Omnibus):</th> <td> 0.000</td>  <th>  Jarque-Bera (JB):  </th> <td>4105.816</td>\n",
       "</tr>\n",
       "<tr>\n",
       "  <th>Skew:</th>          <td> 2.262</td>  <th>  Prob(JB):          </th> <td>    0.00</td>\n",
       "</tr>\n",
       "<tr>\n",
       "  <th>Kurtosis:</th>      <td>11.869</td>  <th>  Cond. No.          </th> <td>    12.0</td>\n",
       "</tr>\n",
       "</table><br/><br/>Warnings:<br/>[1] Standard Errors assume that the covariance matrix of the errors is correctly specified."
      ],
      "text/plain": [
       "<class 'statsmodels.iolib.summary.Summary'>\n",
       "\"\"\"\n",
       "                            OLS Regression Results                            \n",
       "==============================================================================\n",
       "Dep. Variable:                 salary   R-squared:                       0.019\n",
       "Model:                            OLS   Adj. R-squared:                  0.013\n",
       "Method:                 Least Squares   F-statistic:                     3.194\n",
       "Date:                Wed, 07 Oct 2020   Prob (F-statistic):            0.00413\n",
       "Time:                        17:35:48   Log-Likelihood:                -15797.\n",
       "No. Observations:                 994   AIC:                         3.161e+04\n",
       "Df Residuals:                     987   BIC:                         3.164e+04\n",
       "Df Model:                           6                                         \n",
       "Covariance Type:            nonrobust                                         \n",
       "==================================================================================\n",
       "                     coef    std err          t      P>|t|      [0.025      0.975]\n",
       "----------------------------------------------------------------------------------\n",
       "Intercept       2.872e+06   2.27e+05     12.668      0.000    2.43e+06    3.32e+06\n",
       "prim_pos[T.2B]  -9.55e+05   2.97e+05     -3.216      0.001   -1.54e+06   -3.72e+05\n",
       "prim_pos[T.3B]  -2.52e+05   3.67e+05     -0.686      0.493   -9.72e+05    4.68e+05\n",
       "prim_pos[T.C]  -8.883e+05   3.16e+05     -2.807      0.005   -1.51e+06   -2.67e+05\n",
       "prim_pos[T.OF] -1.878e+05   2.72e+05     -0.691      0.490   -7.22e+05    3.46e+05\n",
       "prim_pos[T.P]  -5.578e+05   2.43e+05     -2.297      0.022   -1.03e+06   -8.12e+04\n",
       "prim_pos[T.SS] -6.078e+05   3.95e+05     -1.541      0.124   -1.38e+06    1.66e+05\n",
       "==============================================================================\n",
       "Omnibus:                      516.916   Durbin-Watson:                   1.907\n",
       "Prob(Omnibus):                  0.000   Jarque-Bera (JB):             4105.816\n",
       "Skew:                           2.262   Prob(JB):                         0.00\n",
       "Kurtosis:                      11.869   Cond. No.                         12.0\n",
       "==============================================================================\n",
       "\n",
       "Warnings:\n",
       "[1] Standard Errors assume that the covariance matrix of the errors is correctly specified.\n",
       "\"\"\""
      ]
     },
     "execution_count": 98,
     "metadata": {},
     "output_type": "execute_result"
    }
   ],
   "source": [
    "# why can we use ols in this case?\n",
    "anova_prim_pos = ols('salary~prim_pos', data=df).fit()\n",
    "anova_prim_pos.summary()"
   ]
  },
  {
   "cell_type": "code",
   "execution_count": 99,
   "metadata": {},
   "outputs": [
    {
     "data": {
      "text/plain": [
       "F_onewayResult(statistic=3.1938466422336647, pvalue=0.004133686559044527)"
      ]
     },
     "execution_count": 99,
     "metadata": {},
     "output_type": "execute_result"
    }
   ],
   "source": [
    "stats.f_oneway(df['salary'][df['prim_pos'] == 'P'],\n",
    "                df['salary'][df['prim_pos'] == 'C'], \n",
    "                df['salary'][df['prim_pos'] == '1B'],\n",
    "                df['salary'][df['prim_pos'] == '2B'],\n",
    "                df['salary'][df['prim_pos'] == '3B'],\n",
    "                df['salary'][df['prim_pos'] == 'SS'],\n",
    "                df['salary'][df['prim_pos'] == 'OF'],\n",
    "                )"
   ]
  },
  {
   "cell_type": "markdown",
   "metadata": {},
   "source": [
    "## The low p-value shows that the means of the samples are not equal. They probably did not come from the same distribution.\n",
    "\n",
    "Further tests will have to be done to see which of these positions do not match."
   ]
  },
  {
   "cell_type": "code",
   "execution_count": 100,
   "metadata": {},
   "outputs": [
    {
     "name": "stdout",
     "output_type": "stream",
     "text": [
      "stat=-1.450, p=0.148\n",
      "C and P probably have the same distribution\n"
     ]
    }
   ],
   "source": [
    "op1 = 'C'\n",
    "op2 = 'P'\n",
    "stat, p = ttest_ind(df.salary[df['prim_pos'] == op1], df.salary[df['prim_pos'] == op2])\n",
    "print('stat=%.3f, p=%.3f' % (stat, p))\n",
    "if p > 0.05:\n",
    "    print(op1 + ' and ' + op2 +' probably have the same distribution')\n",
    "else:\n",
    "    print(op1 + ' and ' + op2 +' probably have different distributions')"
   ]
  },
  {
   "cell_type": "code",
   "execution_count": 101,
   "metadata": {},
   "outputs": [
    {
     "name": "stdout",
     "output_type": "stream",
     "text": [
      "stat=2.280, p=0.023\n",
      "1B and P probably have different distributions\n"
     ]
    }
   ],
   "source": [
    "op1 = '1B'\n",
    "op2 = 'P'\n",
    "stat, p = ttest_ind(df.salary[df['prim_pos'] == op1], df.salary[df['prim_pos'] == op2])\n",
    "print('stat=%.3f, p=%.3f' % (stat, p))\n",
    "if p > 0.05:\n",
    "    print(op1 + ' and ' + op2 +' probably have the same distribution')\n",
    "else:\n",
    "    print(op1 + ' and ' + op2 +' probably have different distributions')"
   ]
  },
  {
   "cell_type": "code",
   "execution_count": 102,
   "metadata": {},
   "outputs": [
    {
     "name": "stdout",
     "output_type": "stream",
     "text": [
      "stat=2.051, p=0.041\n",
      "OF and P probably have different distributions\n"
     ]
    }
   ],
   "source": [
    "op1 = 'OF'\n",
    "op2 = 'P'\n",
    "stat, p = ttest_ind(df.salary[df['prim_pos'] == op1], df.salary[df['prim_pos'] == op2])\n",
    "print('stat=%.3f, p=%.3f' % (stat, p))\n",
    "if p > 0.05:\n",
    "    print(op1 + ' and ' + op2 +' probably have the same distribution')\n",
    "else:\n",
    "    print(op1 + ' and ' + op2 +' probably have different distributions')"
   ]
  },
  {
   "cell_type": "code",
   "execution_count": 103,
   "metadata": {},
   "outputs": [
    {
     "name": "stdout",
     "output_type": "stream",
     "text": [
      "stat=2.542, p=0.012\n",
      "1B and C probably have different distributions\n"
     ]
    }
   ],
   "source": [
    "op1 = '1B'\n",
    "op2 = 'C'\n",
    "stat, p = ttest_ind(df.salary[df['prim_pos'] == op1], df.salary[df['prim_pos'] == op2])\n",
    "print('stat=%.3f, p=%.3f' % (stat, p))\n",
    "if p > 0.05:\n",
    "    print(op1 + ' and ' + op2 +' probably have the same distribution')\n",
    "else:\n",
    "    print(op1 + ' and ' + op2 +' probably have different distributions')"
   ]
  },
  {
   "cell_type": "code",
   "execution_count": 104,
   "metadata": {},
   "outputs": [
    {
     "name": "stdout",
     "output_type": "stream",
     "text": [
      "stat=-2.288, p=0.023\n",
      "C and OF probably have different distributions\n"
     ]
    }
   ],
   "source": [
    "op1 = 'C'\n",
    "op2 = 'OF'\n",
    "stat, p = ttest_ind(df.salary[df['prim_pos'] == op1], df.salary[df['prim_pos'] == op2])\n",
    "print('stat=%.3f, p=%.3f' % (stat, p))\n",
    "if p > 0.05:\n",
    "    print(op1 + ' and ' + op2 +' probably have the same distribution')\n",
    "else:\n",
    "    print(op1 + ' and ' + op2 +' probably have different distributions')"
   ]
  },
  {
   "cell_type": "code",
   "execution_count": 105,
   "metadata": {},
   "outputs": [
    {
     "name": "stdout",
     "output_type": "stream",
     "text": [
      "stat=1.062, p=0.289\n",
      "3B and P probably have the same distribution\n"
     ]
    }
   ],
   "source": [
    "op1 = '3B'\n",
    "op2 = 'P'\n",
    "stat, p = ttest_ind(df.salary[df['prim_pos'] == op1], df.salary[df['prim_pos'] == op2])\n",
    "print('stat=%.3f, p=%.3f' % (stat, p))\n",
    "if p > 0.05:\n",
    "    print(op1 + ' and ' + op2 +' probably have the same distribution')\n",
    "else:\n",
    "    print(op1 + ' and ' + op2 +' probably have different distributions')"
   ]
  },
  {
   "cell_type": "code",
   "execution_count": 106,
   "metadata": {},
   "outputs": [
    {
     "name": "stdout",
     "output_type": "stream",
     "text": [
      "stat=-0.830, p=0.409\n",
      "C and SS probably have the same distribution\n"
     ]
    }
   ],
   "source": [
    "op1 = 'C'\n",
    "op2 = 'SS'\n",
    "stat, p = ttest_ind(df.salary[df['prim_pos'] == op1], df.salary[df['prim_pos'] == op2])\n",
    "print('stat=%.3f, p=%.3f' % (stat, p))\n",
    "if p > 0.05:\n",
    "    print(op1 + ' and ' + op2 +' probably have the same distribution')\n",
    "else:\n",
    "    print(op1 + ' and ' + op2 +' probably have different distributions')"
   ]
  },
  {
   "cell_type": "markdown",
   "metadata": {},
   "source": [
    "## Test 3: Two Sample T-Test\n",
    "\n",
    "Tests whether the means of two independent samples are significantly different.\n",
    "\n",
    "Assumptions\n",
    "\n",
    "    Observations in each sample are independent and identically distributed\n",
    "    Observations in each sample are normally distributed.\n",
    "    Observations in each sample have the same variance.\n",
    "    \n",
    "Interpretation\n",
    "\n",
    "    H0: the means of the samples are equal.\n",
    "    H1: the means of the samples are unequal."
   ]
  },
  {
   "cell_type": "code",
   "execution_count": 107,
   "metadata": {},
   "outputs": [
    {
     "name": "stdout",
     "output_type": "stream",
     "text": [
      "stat=1.148, p=0.251\n",
      "Probably the same distribution\n"
     ]
    }
   ],
   "source": [
    "stat, p = ttest_ind(df.salary[df.birthCountry_USA == 1], df.salary[df['birthCountry_P.R.'] == 1])\n",
    "print('stat=%.3f, p=%.3f' % (stat, p))\n",
    "if p > 0.05:\n",
    "    print('Probably the same distribution')\n",
    "else:\n",
    "    print('Probably different distributions')"
   ]
  },
  {
   "cell_type": "code",
   "execution_count": 108,
   "metadata": {},
   "outputs": [
    {
     "data": {
      "text/plain": [
       "Ttest_indResult(statistic=0.8730188216021721, pvalue=0.38290964412985506)"
      ]
     },
     "execution_count": 108,
     "metadata": {},
     "output_type": "execute_result"
    }
   ],
   "source": [
    "stats.ttest_ind(df.salary[df.birthCountry_USA == 1], df.salary[df['birthCountry_D.R.'] == 1])"
   ]
  },
  {
   "cell_type": "code",
   "execution_count": 109,
   "metadata": {},
   "outputs": [
    {
     "data": {
      "text/plain": [
       "Ttest_indResult(statistic=-1.0297265933882445, pvalue=0.30557395380165236)"
      ]
     },
     "execution_count": 109,
     "metadata": {},
     "output_type": "execute_result"
    }
   ],
   "source": [
    "stats.ttest_ind(df.salary[df['birthCountry_P.R.'] == 1], df.salary[df['birthCountry_D.R.'] == 1])"
   ]
  },
  {
   "cell_type": "code",
   "execution_count": 110,
   "metadata": {},
   "outputs": [
    {
     "data": {
      "text/plain": [
       "Ttest_indResult(statistic=-0.08650720007518015, pvalue=0.9310806900551676)"
      ]
     },
     "execution_count": 110,
     "metadata": {},
     "output_type": "execute_result"
    }
   ],
   "source": [
    "stats.ttest_ind(df.salary[df.throws == 'L'], df.salary[df.throws == 'R'])"
   ]
  },
  {
   "cell_type": "markdown",
   "metadata": {},
   "source": [
    "## Test 4: One Sample Z-Test for Means\n",
    "\n"
   ]
  },
  {
   "cell_type": "code",
   "execution_count": 111,
   "metadata": {},
   "outputs": [
    {
     "data": {
      "text/plain": [
       "0.9657464115740144"
      ]
     },
     "execution_count": 111,
     "metadata": {},
     "output_type": "execute_result"
    }
   ],
   "source": [
    "kelevin = df.salary[df['birthCountry_D.R.'] == 1].sample(n = 100, replace = True)\n",
    "\n",
    "# null hypothesis is that there is no correlation between being Dominican and getting a higher salary\n",
    "\n",
    "x = kelevin.mean()\n",
    "mu = df['salary'].mean()\n",
    "s = df['salary'].std()\n",
    "n = 100\n",
    "z =  (x - mu)/(s / np.sqrt(n))\n",
    "p = 1 - stats.norm.cdf(z)\n",
    "#if p < alpha  # Reject Null Hypothesis\n",
    "#if p > alpha  # Failed to reject Null Hypothesis\n",
    "p"
   ]
  },
  {
   "cell_type": "markdown",
   "metadata": {},
   "source": [
    "We fail to reject the null hypothesis"
   ]
  },
  {
   "cell_type": "markdown",
   "metadata": {},
   "source": [
    "## Visualizations"
   ]
  },
  {
   "cell_type": "code",
   "execution_count": 113,
   "metadata": {},
   "outputs": [
    {
     "data": {
      "text/plain": [
       "<seaborn.axisgrid.FacetGrid at 0x7fdf2b4134f0>"
      ]
     },
     "execution_count": 113,
     "metadata": {},
     "output_type": "execute_result"
    },
    {
     "data": {
      "image/png": "[encoded data removed]",
      "text/plain": [
       "<Figure size 720x360 with 2 Axes>"
      ]
     },
     "metadata": {
      "needs_background": "light"
     },
     "output_type": "display_data"
    }
   ],
   "source": [
    "sns.lmplot(x='H',y='salary',data=df,col='throws')"
   ]
  },
  {
   "cell_type": "code",
   "execution_count": 114,
   "metadata": {},
   "outputs": [
    {
     "data": {
      "text/plain": [
       "<matplotlib.axes._subplots.AxesSubplot at 0x7fdf2c2564c0>"
      ]
     },
     "execution_count": 114,
     "metadata": {},
     "output_type": "execute_result"
    },
    {
     "data": {
      "image/png": "[encoded data removed]",
      "text/plain": [
       "<Figure size 1440x1080 with 2 Axes>"
      ]
     },
     "metadata": {
      "needs_background": "light"
     },
     "output_type": "display_data"
    }
   ],
   "source": [
    "fig,ax = plt.subplots(figsize = (20,15))\n",
    "\n",
    "sns.heatmap(df.corr(), cbar_kws= {'orientation': 'horizontal'} ,square=True)\n"
   ]
  },
  {
   "cell_type": "code",
   "execution_count": null,
   "metadata": {},
   "outputs": [],
   "source": []
  }
 ],
 "metadata": {
  "kernelspec": {
   "display_name": "Python 3",
   "language": "python",
   "name": "python3"
  },
  "language_info": {
   "codemirror_mode": {
    "name": "ipython",
    "version": 3
   },
   "file_extension": ".py",
   "mimetype": "text/x-python",
   "name": "python",
   "nbconvert_exporter": "python",
   "pygments_lexer": "ipython3",
   "version": "3.8.3"
  }
 },
 "nbformat": 4,
 "nbformat_minor": 4
}
