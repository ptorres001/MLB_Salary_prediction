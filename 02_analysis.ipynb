{
 "cells": [
  {
   "cell_type": "markdown",
   "metadata": {},
   "source": [
    "# Mod2 Project - Linear Regression Model\n",
    "\n",
    "Second Notebook"
   ]
  },
  {
   "cell_type": "markdown",
   "metadata": {},
   "source": [
    "## Data Analysis\n",
    "\n",
    "In this notebook, we begin our data analysis. In it we: \n",
    "\n",
    "\n",
    "    a) show distributions\n",
    "    b) confirm that outliers are removed\n",
    "    c) beging to run hypothesis tests on features.\n",
    "\n",
    "The goal is to create a model that can efficiently and accurately predict a players fourth year salary after arbitration."
   ]
  },
  {
   "cell_type": "code",
   "execution_count": 1,
   "metadata": {},
   "outputs": [],
   "source": [
    "import pandas as pd\n",
    "import numpy as np \n",
    "import seaborn as sns\n",
    "import matplotlib.pyplot as plt\n",
    "from sklearn.model_selection import train_test_split\n",
    "from sklearn.linear_model import LinearRegression\n",
    "from sklearn import metrics\n",
    "import statsmodels.api as sm\n",
    "import statsmodels.stats as sms\n",
    "from statsmodels.formula.api import ols\n",
    "from sklearn.dummy import DummyRegressor\n",
    "from sklearn import linear_model\n",
    "from sklearn import metrics\n",
    "from sklearn.preprocessing import PolynomialFeatures\n",
    "from sklearn.preprocessing import StandardScaler\n",
    "from statsmodels.stats.outliers_influence import variance_inflation_factor\n",
    "import scipy.stats as stats\n",
    "import random\n",
    "from statsmodels.stats import weightstats as stests\n",
    "from scipy.stats import ttest_ind\n",
    "\n",
    "sns.set(style=\"whitegrid\")\n",
    "\n",
    "plt.style.use('seaborn')\n",
    "\n",
    "import warnings\n",
    "warnings.filterwarnings(\"ignore\")\n",
    "pd.set_option('display.max_columns', 300)\n",
    "pd.set_option('display.max_rows', 80)\n",
    "\n",
    "%matplotlib inline"
   ]
  },
  {
   "cell_type": "markdown",
   "metadata": {},
   "source": [
    "# \n",
    "Below is the dataset created after extensive cleaning in the first notebook."
   ]
  },
  {
   "cell_type": "code",
   "execution_count": 2,
   "metadata": {},
   "outputs": [
    {
     "data": {
      "text/html": [
       "<div>\n",
       "<style scoped>\n",
       "    .dataframe tbody tr th:only-of-type {\n",
       "        vertical-align: middle;\n",
       "    }\n",
       "\n",
       "    .dataframe tbody tr th {\n",
       "        vertical-align: top;\n",
       "    }\n",
       "\n",
       "    .dataframe thead th {\n",
       "        text-align: right;\n",
       "    }\n",
       "</style>\n",
       "<table border=\"1\" class=\"dataframe\">\n",
       "  <thead>\n",
       "    <tr style=\"text-align: right;\">\n",
       "      <th></th>\n",
       "      <th>Unnamed: 0</th>\n",
       "      <th>playerID</th>\n",
       "      <th>birthYear</th>\n",
       "      <th>nameFirst</th>\n",
       "      <th>nameLast</th>\n",
       "      <th>weight</th>\n",
       "      <th>height</th>\n",
       "      <th>debut</th>\n",
       "      <th>finalGame</th>\n",
       "      <th>award_winner</th>\n",
       "      <th>G</th>\n",
       "      <th>AB</th>\n",
       "      <th>R</th>\n",
       "      <th>H</th>\n",
       "      <th>DBL</th>\n",
       "      <th>TPL</th>\n",
       "      <th>HR</th>\n",
       "      <th>RBI</th>\n",
       "      <th>SB</th>\n",
       "      <th>CS</th>\n",
       "      <th>BB</th>\n",
       "      <th>SO</th>\n",
       "      <th>IBB</th>\n",
       "      <th>HBP</th>\n",
       "      <th>SH</th>\n",
       "      <th>SF</th>\n",
       "      <th>GIDP</th>\n",
       "      <th>OBP</th>\n",
       "      <th>BA</th>\n",
       "      <th>TB</th>\n",
       "      <th>SLG</th>\n",
       "      <th>OPS</th>\n",
       "      <th>salary</th>\n",
       "      <th>seasons</th>\n",
       "      <th>salary_log</th>\n",
       "      <th>throws_R</th>\n",
       "      <th>bats_L</th>\n",
       "      <th>bats_R</th>\n",
       "      <th>prim_pos_2B</th>\n",
       "      <th>prim_pos_3B</th>\n",
       "      <th>prim_pos_C</th>\n",
       "      <th>prim_pos_OF</th>\n",
       "      <th>prim_pos_P</th>\n",
       "      <th>prim_pos_SS</th>\n",
       "      <th>birthCountry_CAN</th>\n",
       "      <th>birthCountry_Colombia</th>\n",
       "      <th>birthCountry_Cuba</th>\n",
       "      <th>birthCountry_Curacao</th>\n",
       "      <th>birthCountry_D.R.</th>\n",
       "      <th>birthCountry_Germany</th>\n",
       "      <th>birthCountry_Jamaica</th>\n",
       "      <th>birthCountry_Japan</th>\n",
       "      <th>birthCountry_Mexico</th>\n",
       "      <th>birthCountry_Netherlands</th>\n",
       "      <th>birthCountry_Nicaragua</th>\n",
       "      <th>birthCountry_P.R.</th>\n",
       "      <th>birthCountry_Panama</th>\n",
       "      <th>birthCountry_South Korea</th>\n",
       "      <th>birthCountry_Taiwan</th>\n",
       "      <th>birthCountry_USA</th>\n",
       "      <th>birthCountry_Venezuela</th>\n",
       "      <th>throws</th>\n",
       "      <th>prim_pos</th>\n",
       "    </tr>\n",
       "  </thead>\n",
       "  <tbody>\n",
       "    <tr>\n",
       "      <th>0</th>\n",
       "      <td>0</td>\n",
       "      <td>abadfe01</td>\n",
       "      <td>1985.0</td>\n",
       "      <td>Fernando</td>\n",
       "      <td>Abad</td>\n",
       "      <td>235.0</td>\n",
       "      <td>74.0</td>\n",
       "      <td>2010-07-28</td>\n",
       "      <td>2019-09-28</td>\n",
       "      <td>0</td>\n",
       "      <td>29.333333</td>\n",
       "      <td>2.666667</td>\n",
       "      <td>0.000000</td>\n",
       "      <td>0.333333</td>\n",
       "      <td>0.000000</td>\n",
       "      <td>0.000000</td>\n",
       "      <td>0.000000</td>\n",
       "      <td>0.000000</td>\n",
       "      <td>0.000000</td>\n",
       "      <td>0.000000</td>\n",
       "      <td>0.000000</td>\n",
       "      <td>1.333333</td>\n",
       "      <td>0.000000</td>\n",
       "      <td>0.000000</td>\n",
       "      <td>0.000000</td>\n",
       "      <td>0.000000</td>\n",
       "      <td>0.333333</td>\n",
       "      <td>0.047619</td>\n",
       "      <td>0.047619</td>\n",
       "      <td>0.333333</td>\n",
       "      <td>0.047619</td>\n",
       "      <td>0.095238</td>\n",
       "      <td>1087500.0</td>\n",
       "      <td>5.0</td>\n",
       "      <td>13.899392</td>\n",
       "      <td>0</td>\n",
       "      <td>1</td>\n",
       "      <td>0</td>\n",
       "      <td>0</td>\n",
       "      <td>0</td>\n",
       "      <td>0</td>\n",
       "      <td>0</td>\n",
       "      <td>1</td>\n",
       "      <td>0</td>\n",
       "      <td>0</td>\n",
       "      <td>0</td>\n",
       "      <td>0</td>\n",
       "      <td>0</td>\n",
       "      <td>1</td>\n",
       "      <td>0</td>\n",
       "      <td>0</td>\n",
       "      <td>0</td>\n",
       "      <td>0</td>\n",
       "      <td>0</td>\n",
       "      <td>0</td>\n",
       "      <td>0</td>\n",
       "      <td>0</td>\n",
       "      <td>0</td>\n",
       "      <td>0</td>\n",
       "      <td>0</td>\n",
       "      <td>0</td>\n",
       "      <td>L</td>\n",
       "      <td>P</td>\n",
       "    </tr>\n",
       "    <tr>\n",
       "      <th>1</th>\n",
       "      <td>1</td>\n",
       "      <td>abreuto01</td>\n",
       "      <td>1984.0</td>\n",
       "      <td>Tony</td>\n",
       "      <td>Abreu</td>\n",
       "      <td>200.0</td>\n",
       "      <td>70.0</td>\n",
       "      <td>2007-05-22</td>\n",
       "      <td>2014-07-28</td>\n",
       "      <td>0</td>\n",
       "      <td>48.666667</td>\n",
       "      <td>122.333333</td>\n",
       "      <td>11.666667</td>\n",
       "      <td>30.666667</td>\n",
       "      <td>8.333333</td>\n",
       "      <td>0.666667</td>\n",
       "      <td>1.000000</td>\n",
       "      <td>10.333333</td>\n",
       "      <td>0.666667</td>\n",
       "      <td>0.666667</td>\n",
       "      <td>4.666667</td>\n",
       "      <td>23.333333</td>\n",
       "      <td>0.333333</td>\n",
       "      <td>1.000000</td>\n",
       "      <td>0.000000</td>\n",
       "      <td>2.000000</td>\n",
       "      <td>4.333333</td>\n",
       "      <td>0.335772</td>\n",
       "      <td>0.251415</td>\n",
       "      <td>53.333333</td>\n",
       "      <td>0.379815</td>\n",
       "      <td>0.715586</td>\n",
       "      <td>745000.0</td>\n",
       "      <td>4.0</td>\n",
       "      <td>13.521139</td>\n",
       "      <td>1</td>\n",
       "      <td>0</td>\n",
       "      <td>0</td>\n",
       "      <td>1</td>\n",
       "      <td>0</td>\n",
       "      <td>0</td>\n",
       "      <td>0</td>\n",
       "      <td>0</td>\n",
       "      <td>0</td>\n",
       "      <td>0</td>\n",
       "      <td>0</td>\n",
       "      <td>0</td>\n",
       "      <td>0</td>\n",
       "      <td>1</td>\n",
       "      <td>0</td>\n",
       "      <td>0</td>\n",
       "      <td>0</td>\n",
       "      <td>0</td>\n",
       "      <td>0</td>\n",
       "      <td>0</td>\n",
       "      <td>0</td>\n",
       "      <td>0</td>\n",
       "      <td>0</td>\n",
       "      <td>0</td>\n",
       "      <td>0</td>\n",
       "      <td>0</td>\n",
       "      <td>R</td>\n",
       "      <td>2B</td>\n",
       "    </tr>\n",
       "    <tr>\n",
       "      <th>2</th>\n",
       "      <td>2</td>\n",
       "      <td>accarje01</td>\n",
       "      <td>1981.0</td>\n",
       "      <td>Jeremy</td>\n",
       "      <td>Accardo</td>\n",
       "      <td>195.0</td>\n",
       "      <td>72.0</td>\n",
       "      <td>2005-05-04</td>\n",
       "      <td>2012-09-27</td>\n",
       "      <td>0</td>\n",
       "      <td>52.333333</td>\n",
       "      <td>2.333333</td>\n",
       "      <td>0.000000</td>\n",
       "      <td>0.333333</td>\n",
       "      <td>0.000000</td>\n",
       "      <td>0.000000</td>\n",
       "      <td>0.000000</td>\n",
       "      <td>0.000000</td>\n",
       "      <td>0.000000</td>\n",
       "      <td>0.000000</td>\n",
       "      <td>0.000000</td>\n",
       "      <td>0.333333</td>\n",
       "      <td>0.000000</td>\n",
       "      <td>0.000000</td>\n",
       "      <td>0.000000</td>\n",
       "      <td>0.000000</td>\n",
       "      <td>0.000000</td>\n",
       "      <td>0.166667</td>\n",
       "      <td>0.166667</td>\n",
       "      <td>0.333333</td>\n",
       "      <td>0.166667</td>\n",
       "      <td>0.333333</td>\n",
       "      <td>1080000.0</td>\n",
       "      <td>5.0</td>\n",
       "      <td>13.892472</td>\n",
       "      <td>1</td>\n",
       "      <td>0</td>\n",
       "      <td>1</td>\n",
       "      <td>0</td>\n",
       "      <td>0</td>\n",
       "      <td>0</td>\n",
       "      <td>0</td>\n",
       "      <td>1</td>\n",
       "      <td>0</td>\n",
       "      <td>0</td>\n",
       "      <td>0</td>\n",
       "      <td>0</td>\n",
       "      <td>0</td>\n",
       "      <td>0</td>\n",
       "      <td>0</td>\n",
       "      <td>0</td>\n",
       "      <td>0</td>\n",
       "      <td>0</td>\n",
       "      <td>0</td>\n",
       "      <td>0</td>\n",
       "      <td>0</td>\n",
       "      <td>0</td>\n",
       "      <td>0</td>\n",
       "      <td>0</td>\n",
       "      <td>1</td>\n",
       "      <td>0</td>\n",
       "      <td>R</td>\n",
       "      <td>P</td>\n",
       "    </tr>\n",
       "    <tr>\n",
       "      <th>3</th>\n",
       "      <td>3</td>\n",
       "      <td>ackledu01</td>\n",
       "      <td>1988.0</td>\n",
       "      <td>Dustin</td>\n",
       "      <td>Ackley</td>\n",
       "      <td>205.0</td>\n",
       "      <td>73.0</td>\n",
       "      <td>2011-06-17</td>\n",
       "      <td>2016-05-29</td>\n",
       "      <td>0</td>\n",
       "      <td>118.666667</td>\n",
       "      <td>441.333333</td>\n",
       "      <td>54.333333</td>\n",
       "      <td>108.333333</td>\n",
       "      <td>18.666667</td>\n",
       "      <td>3.666667</td>\n",
       "      <td>7.333333</td>\n",
       "      <td>39.000000</td>\n",
       "      <td>7.000000</td>\n",
       "      <td>2.000000</td>\n",
       "      <td>45.333333</td>\n",
       "      <td>91.666667</td>\n",
       "      <td>3.000000</td>\n",
       "      <td>0.333333</td>\n",
       "      <td>1.666667</td>\n",
       "      <td>1.666667</td>\n",
       "      <td>4.000000</td>\n",
       "      <td>0.320469</td>\n",
       "      <td>0.250526</td>\n",
       "      <td>186.000000</td>\n",
       "      <td>0.431767</td>\n",
       "      <td>0.752236</td>\n",
       "      <td>2600000.0</td>\n",
       "      <td>5.0</td>\n",
       "      <td>14.771022</td>\n",
       "      <td>1</td>\n",
       "      <td>1</td>\n",
       "      <td>0</td>\n",
       "      <td>0</td>\n",
       "      <td>0</td>\n",
       "      <td>0</td>\n",
       "      <td>0</td>\n",
       "      <td>0</td>\n",
       "      <td>0</td>\n",
       "      <td>0</td>\n",
       "      <td>0</td>\n",
       "      <td>0</td>\n",
       "      <td>0</td>\n",
       "      <td>0</td>\n",
       "      <td>0</td>\n",
       "      <td>0</td>\n",
       "      <td>0</td>\n",
       "      <td>0</td>\n",
       "      <td>0</td>\n",
       "      <td>0</td>\n",
       "      <td>0</td>\n",
       "      <td>0</td>\n",
       "      <td>0</td>\n",
       "      <td>0</td>\n",
       "      <td>1</td>\n",
       "      <td>0</td>\n",
       "      <td>R</td>\n",
       "      <td>1B</td>\n",
       "    </tr>\n",
       "    <tr>\n",
       "      <th>4</th>\n",
       "      <td>4</td>\n",
       "      <td>adamsma01</td>\n",
       "      <td>1988.0</td>\n",
       "      <td>Matt</td>\n",
       "      <td>Adams</td>\n",
       "      <td>245.0</td>\n",
       "      <td>75.0</td>\n",
       "      <td>2012-05-20</td>\n",
       "      <td>2020-07-29</td>\n",
       "      <td>0</td>\n",
       "      <td>92.333333</td>\n",
       "      <td>303.000000</td>\n",
       "      <td>36.333333</td>\n",
       "      <td>85.666667</td>\n",
       "      <td>18.000000</td>\n",
       "      <td>1.666667</td>\n",
       "      <td>11.333333</td>\n",
       "      <td>44.000000</td>\n",
       "      <td>1.000000</td>\n",
       "      <td>1.000000</td>\n",
       "      <td>18.000000</td>\n",
       "      <td>72.666667</td>\n",
       "      <td>1.666667</td>\n",
       "      <td>1.000000</td>\n",
       "      <td>0.000000</td>\n",
       "      <td>2.333333</td>\n",
       "      <td>7.000000</td>\n",
       "      <td>0.314210</td>\n",
       "      <td>0.272132</td>\n",
       "      <td>172.000000</td>\n",
       "      <td>0.548208</td>\n",
       "      <td>0.862418</td>\n",
       "      <td>1650000.0</td>\n",
       "      <td>4.0</td>\n",
       "      <td>14.316286</td>\n",
       "      <td>1</td>\n",
       "      <td>1</td>\n",
       "      <td>0</td>\n",
       "      <td>0</td>\n",
       "      <td>0</td>\n",
       "      <td>0</td>\n",
       "      <td>0</td>\n",
       "      <td>0</td>\n",
       "      <td>0</td>\n",
       "      <td>0</td>\n",
       "      <td>0</td>\n",
       "      <td>0</td>\n",
       "      <td>0</td>\n",
       "      <td>0</td>\n",
       "      <td>0</td>\n",
       "      <td>0</td>\n",
       "      <td>0</td>\n",
       "      <td>0</td>\n",
       "      <td>0</td>\n",
       "      <td>0</td>\n",
       "      <td>0</td>\n",
       "      <td>0</td>\n",
       "      <td>0</td>\n",
       "      <td>0</td>\n",
       "      <td>1</td>\n",
       "      <td>0</td>\n",
       "      <td>R</td>\n",
       "      <td>1B</td>\n",
       "    </tr>\n",
       "  </tbody>\n",
       "</table>\n",
       "</div>"
      ],
      "text/plain": [
       "   Unnamed: 0   playerID  birthYear nameFirst nameLast  weight  height  \\\n",
       "0           0   abadfe01     1985.0  Fernando     Abad   235.0    74.0   \n",
       "1           1  abreuto01     1984.0      Tony    Abreu   200.0    70.0   \n",
       "2           2  accarje01     1981.0    Jeremy  Accardo   195.0    72.0   \n",
       "3           3  ackledu01     1988.0    Dustin   Ackley   205.0    73.0   \n",
       "4           4  adamsma01     1988.0      Matt    Adams   245.0    75.0   \n",
       "\n",
       "        debut   finalGame  award_winner           G          AB          R  \\\n",
       "0  2010-07-28  2019-09-28             0   29.333333    2.666667   0.000000   \n",
       "1  2007-05-22  2014-07-28             0   48.666667  122.333333  11.666667   \n",
       "2  2005-05-04  2012-09-27             0   52.333333    2.333333   0.000000   \n",
       "3  2011-06-17  2016-05-29             0  118.666667  441.333333  54.333333   \n",
       "4  2012-05-20  2020-07-29             0   92.333333  303.000000  36.333333   \n",
       "\n",
       "            H        DBL       TPL         HR        RBI        SB        CS  \\\n",
       "0    0.333333   0.000000  0.000000   0.000000   0.000000  0.000000  0.000000   \n",
       "1   30.666667   8.333333  0.666667   1.000000  10.333333  0.666667  0.666667   \n",
       "2    0.333333   0.000000  0.000000   0.000000   0.000000  0.000000  0.000000   \n",
       "3  108.333333  18.666667  3.666667   7.333333  39.000000  7.000000  2.000000   \n",
       "4   85.666667  18.000000  1.666667  11.333333  44.000000  1.000000  1.000000   \n",
       "\n",
       "          BB         SO       IBB       HBP        SH        SF      GIDP  \\\n",
       "0   0.000000   1.333333  0.000000  0.000000  0.000000  0.000000  0.333333   \n",
       "1   4.666667  23.333333  0.333333  1.000000  0.000000  2.000000  4.333333   \n",
       "2   0.000000   0.333333  0.000000  0.000000  0.000000  0.000000  0.000000   \n",
       "3  45.333333  91.666667  3.000000  0.333333  1.666667  1.666667  4.000000   \n",
       "4  18.000000  72.666667  1.666667  1.000000  0.000000  2.333333  7.000000   \n",
       "\n",
       "        OBP        BA          TB       SLG       OPS     salary  seasons  \\\n",
       "0  0.047619  0.047619    0.333333  0.047619  0.095238  1087500.0      5.0   \n",
       "1  0.335772  0.251415   53.333333  0.379815  0.715586   745000.0      4.0   \n",
       "2  0.166667  0.166667    0.333333  0.166667  0.333333  1080000.0      5.0   \n",
       "3  0.320469  0.250526  186.000000  0.431767  0.752236  2600000.0      5.0   \n",
       "4  0.314210  0.272132  172.000000  0.548208  0.862418  1650000.0      4.0   \n",
       "\n",
       "   salary_log  throws_R  bats_L  bats_R  prim_pos_2B  prim_pos_3B  prim_pos_C  \\\n",
       "0   13.899392         0       1       0            0            0           0   \n",
       "1   13.521139         1       0       0            1            0           0   \n",
       "2   13.892472         1       0       1            0            0           0   \n",
       "3   14.771022         1       1       0            0            0           0   \n",
       "4   14.316286         1       1       0            0            0           0   \n",
       "\n",
       "   prim_pos_OF  prim_pos_P  prim_pos_SS  birthCountry_CAN  \\\n",
       "0            0           1            0                 0   \n",
       "1            0           0            0                 0   \n",
       "2            0           1            0                 0   \n",
       "3            0           0            0                 0   \n",
       "4            0           0            0                 0   \n",
       "\n",
       "   birthCountry_Colombia  birthCountry_Cuba  birthCountry_Curacao  \\\n",
       "0                      0                  0                     0   \n",
       "1                      0                  0                     0   \n",
       "2                      0                  0                     0   \n",
       "3                      0                  0                     0   \n",
       "4                      0                  0                     0   \n",
       "\n",
       "   birthCountry_D.R.  birthCountry_Germany  birthCountry_Jamaica  \\\n",
       "0                  1                     0                     0   \n",
       "1                  1                     0                     0   \n",
       "2                  0                     0                     0   \n",
       "3                  0                     0                     0   \n",
       "4                  0                     0                     0   \n",
       "\n",
       "   birthCountry_Japan  birthCountry_Mexico  birthCountry_Netherlands  \\\n",
       "0                   0                    0                         0   \n",
       "1                   0                    0                         0   \n",
       "2                   0                    0                         0   \n",
       "3                   0                    0                         0   \n",
       "4                   0                    0                         0   \n",
       "\n",
       "   birthCountry_Nicaragua  birthCountry_P.R.  birthCountry_Panama  \\\n",
       "0                       0                  0                    0   \n",
       "1                       0                  0                    0   \n",
       "2                       0                  0                    0   \n",
       "3                       0                  0                    0   \n",
       "4                       0                  0                    0   \n",
       "\n",
       "   birthCountry_South Korea  birthCountry_Taiwan  birthCountry_USA  \\\n",
       "0                         0                    0                 0   \n",
       "1                         0                    0                 0   \n",
       "2                         0                    0                 1   \n",
       "3                         0                    0                 1   \n",
       "4                         0                    0                 1   \n",
       "\n",
       "   birthCountry_Venezuela throws prim_pos  \n",
       "0                       0      L        P  \n",
       "1                       0      R       2B  \n",
       "2                       0      R        P  \n",
       "3                       0      R       1B  \n",
       "4                       0      R       1B  "
      ]
     },
     "execution_count": 2,
     "metadata": {},
     "output_type": "execute_result"
    }
   ],
   "source": [
    "df = pd.read_csv('rookie.csv')\n",
    "df.head()"
   ]
  },
  {
   "cell_type": "markdown",
   "metadata": {},
   "source": [
    "# \n",
    "Some visualizations to show the distributions amongst the data"
   ]
  },
  {
   "cell_type": "code",
   "execution_count": 3,
   "metadata": {},
   "outputs": [
    {
     "data": {
      "text/plain": [
       "prim_pos\n",
       "1B    8400000.0\n",
       "2B    6000000.0\n",
       "3B    6916667.0\n",
       "C     7666666.0\n",
       "OF    7928571.0\n",
       "P     8333333.0\n",
       "SS    6000000.0\n",
       "Name: salary, dtype: float64"
      ]
     },
     "execution_count": 3,
     "metadata": {},
     "output_type": "execute_result"
    }
   ],
   "source": [
    "df.groupby('prim_pos').salary.max()"
   ]
  },
  {
   "cell_type": "code",
   "execution_count": 4,
   "metadata": {},
   "outputs": [
    {
     "data": {
      "text/plain": [
       "prim_pos\n",
       "1B    2.500211e+06\n",
       "2B    1.848573e+06\n",
       "3B    2.586796e+06\n",
       "C     1.845441e+06\n",
       "OF    2.306358e+06\n",
       "P     2.435590e+06\n",
       "SS    2.264286e+06\n",
       "Name: salary, dtype: float64"
      ]
     },
     "execution_count": 4,
     "metadata": {},
     "output_type": "execute_result"
    }
   ],
   "source": [
    "df.groupby('prim_pos').salary.mean()"
   ]
  },
  {
   "cell_type": "markdown",
   "metadata": {},
   "source": [
    "# \n",
    "The distributions of salary differentiated by the primary position of a player."
   ]
  },
  {
   "cell_type": "code",
   "execution_count": 7,
   "metadata": {},
   "outputs": [
    {
     "data": {
      "image/png": "[encoded data removed]",
      "text/plain": [
       "<Figure size 1080x720 with 1 Axes>"
      ]
     },
     "metadata": {
      "needs_background": "light"
     },
     "output_type": "display_data"
    }
   ],
   "source": [
    "fig, axes = plt.subplots(figsize = (15,10))\n",
    "sns.boxplot(x = 'prim_pos', y = 'salary', data = df, palette='coolwarm')\n",
    "\n",
    "axes.set_ylabel('Salary in Millions')\n",
    "axes.set_xlabel('Primary Position')\n",
    "axes.set_title('Distribution of Salaries by Position')\n",
    "\n",
    "plt.savefig('PNG/sal_primpos.png')"
   ]
  },
  {
   "cell_type": "markdown",
   "metadata": {},
   "source": [
    "# \n",
    "In the two graphs below, you can see:\n",
    "    \n",
    "    a) The count of left handed batters is far smaller than the count of right handed batters\n",
    "    b) The average salary is higher for a left handed batter\n",
    "\n",
    "Why is that the case?"
   ]
  },
  {
   "cell_type": "code",
   "execution_count": 8,
   "metadata": {},
   "outputs": [
    {
     "data": {
      "image/png": "[encoded data removed]",
      "text/plain": [
       "<Figure size 720x720 with 1 Axes>"
      ]
     },
     "metadata": {
      "needs_background": "light"
     },
     "output_type": "display_data"
    }
   ],
   "source": [
    "\n",
    "fig, axes = plt.subplots(figsize = (10,10))\n",
    "\n",
    "\n",
    "sns.countplot(x= 'throws', data = df)\n",
    "\n",
    "axes.set_ylabel('Count')\n",
    "axes.set_xlabel('Handedness')\n",
    "axes.set_title('Count of Left vs Right Handed Players')\n",
    "\n",
    "\n",
    "plt.savefig('PNG/right_left_sal.png')"
   ]
  },
  {
   "cell_type": "code",
   "execution_count": 9,
   "metadata": {},
   "outputs": [
    {
     "data": {
      "image/png": "[encoded data removed]",
      "text/plain": [
       "<Figure size 720x720 with 1 Axes>"
      ]
     },
     "metadata": {
      "needs_background": "light"
     },
     "output_type": "display_data"
    }
   ],
   "source": [
    "x = df.groupby('throws').salary.median().reset_index()\n",
    "\n",
    "\n",
    "fig, axes = plt.subplots(figsize = (10,10))\n",
    "\n",
    "sns.barplot(x= 'throws',y = 'salary', data = x)\n",
    "\n",
    "\n",
    "axes.set_ylabel('Mean Salary in Millions')\n",
    "axes.set_xlabel('Handedness')\n",
    "axes.set_title('Mean Salary Left vs Right Handed Players')\n",
    "\n",
    "\n",
    "\n",
    "plt.savefig('PNG/right_left_meansal.png', dpi = 150)\n"
   ]
  },
  {
   "cell_type": "markdown",
   "metadata": {},
   "source": [
    "# The convention in baseball is that a pitcher has an advantage when thowing against someone who throws with the same hand.\n",
    "\n",
    "In plainer terms, a lefty pitcher has an advantage against a left handed batter. The same is true with right handed pitchers. \n",
    "\n",
    "The higher average can be attributed to two things:\n",
    "\n",
    "    a) the lack of sampling of left handed hitters shows bias in the data\n",
    "    b) the rarity of left handed hitters and the prevalence of right handed pitchers make them a more precious commodity"
   ]
  },
  {
   "cell_type": "code",
   "execution_count": 10,
   "metadata": {},
   "outputs": [
    {
     "data": {
      "text/plain": [
       "R    592\n",
       "L    165\n",
       "Name: throws, dtype: int64"
      ]
     },
     "execution_count": 10,
     "metadata": {},
     "output_type": "execute_result"
    }
   ],
   "source": [
    "df['throws'].value_counts()"
   ]
  },
  {
   "cell_type": "code",
   "execution_count": 12,
   "metadata": {},
   "outputs": [
    {
     "data": {
      "image/png": "[encoded data removed]",
      "text/plain": [
       "<Figure size 1080x720 with 1 Axes>"
      ]
     },
     "metadata": {
      "needs_background": "light"
     },
     "output_type": "display_data"
    }
   ],
   "source": [
    "fig, ax = plt.subplots(figsize = (15,10))\n",
    "\n",
    "df.salary[df.throws_R == 1].plot(kind = 'hist', bins = 30, alpha = 0.7, label = \"Righty\")\n",
    "df.salary[df.throws_R == 0].plot(kind = 'hist', bins = 30, alpha = 0.7, label = \"Lefty\", color = 'r')\n",
    "plt.legend()\n",
    "plt.title(\"Distribution of salary per handedness in Population\")\n",
    "plt.xlabel('Salary')\n",
    "plt.savefig('PNG/hand_salary_dist.png', dpi = 150)"
   ]
  },
  {
   "cell_type": "markdown",
   "metadata": {},
   "source": [
    "## Statistic Tests\n",
    "\n",
    "In this section I will perform 3 tests on my data to make sure they have relevance to the question at hand. "
   ]
  },
  {
   "cell_type": "markdown",
   "metadata": {},
   "source": [
    "### Test 1: Two sample Proportion Z-test\n",
    "\n",
    "Null hypothesis: Do right and left handed players have different incidents of high earners?"
   ]
  },
  {
   "cell_type": "code",
   "execution_count": 13,
   "metadata": {},
   "outputs": [
    {
     "data": {
      "text/plain": [
       "2277870.6631439896"
      ]
     },
     "execution_count": 13,
     "metadata": {},
     "output_type": "execute_result"
    }
   ],
   "source": [
    "df.salary.mean()"
   ]
  },
  {
   "cell_type": "code",
   "execution_count": 14,
   "metadata": {},
   "outputs": [
    {
     "data": {
      "text/plain": [
       "1559203.7809601966"
      ]
     },
     "execution_count": 14,
     "metadata": {},
     "output_type": "execute_result"
    }
   ],
   "source": [
    "df.salary.std()"
   ]
  },
  {
   "cell_type": "code",
   "execution_count": 15,
   "metadata": {},
   "outputs": [],
   "source": [
    "df_left = df[df.throws == 'L']\n",
    "df_right = df[df.throws == 'R']"
   ]
  },
  {
   "cell_type": "code",
   "execution_count": 16,
   "metadata": {},
   "outputs": [],
   "source": [
    "df_high_left = df_left[df_left.salary    >=  1700000]\n",
    "df_high_right = df_right[df_right.salary >=  1700000]"
   ]
  },
  {
   "cell_type": "code",
   "execution_count": 17,
   "metadata": {},
   "outputs": [
    {
     "name": "stdout",
     "output_type": "stream",
     "text": [
      "The p-value is: 0.11896405676013236. So we fail to reject the null hypothesis.\n"
     ]
    }
   ],
   "source": [
    "z, p = sms.proportion.proportions_ztest([len(df_high_left), len(df_high_right)], [len(df_left), len(df_right)])\n",
    "\n",
    "print('The p-value is: ' + str(p) + '. So we fail to reject the null hypothesis.')"
   ]
  },
  {
   "cell_type": "markdown",
   "metadata": {},
   "source": [
    "# \n",
    "We fail to reject the null hypothesis that there is no difference between left and right handed players in terms of large salaries"
   ]
  },
  {
   "cell_type": "markdown",
   "metadata": {},
   "source": [
    "### Test 2: ANOVA\n",
    "\n",
    "Null hypothesis: The means of the samples are equal"
   ]
  },
  {
   "cell_type": "code",
   "execution_count": 18,
   "metadata": {},
   "outputs": [
    {
     "data": {
      "text/html": [
       "<table class=\"simpletable\">\n",
       "<caption>OLS Regression Results</caption>\n",
       "<tr>\n",
       "  <th>Dep. Variable:</th>         <td>salary</td>      <th>  R-squared:         </th> <td>   0.026</td> \n",
       "</tr>\n",
       "<tr>\n",
       "  <th>Model:</th>                   <td>OLS</td>       <th>  Adj. R-squared:    </th> <td>   0.018</td> \n",
       "</tr>\n",
       "<tr>\n",
       "  <th>Method:</th>             <td>Least Squares</td>  <th>  F-statistic:       </th> <td>   3.283</td> \n",
       "</tr>\n",
       "<tr>\n",
       "  <th>Date:</th>             <td>Wed, 07 Oct 2020</td> <th>  Prob (F-statistic):</th>  <td>0.00340</td> \n",
       "</tr>\n",
       "<tr>\n",
       "  <th>Time:</th>                 <td>14:19:08</td>     <th>  Log-Likelihood:    </th> <td> -11858.</td> \n",
       "</tr>\n",
       "<tr>\n",
       "  <th>No. Observations:</th>      <td>   757</td>      <th>  AIC:               </th> <td>2.373e+04</td>\n",
       "</tr>\n",
       "<tr>\n",
       "  <th>Df Residuals:</th>          <td>   750</td>      <th>  BIC:               </th> <td>2.376e+04</td>\n",
       "</tr>\n",
       "<tr>\n",
       "  <th>Df Model:</th>              <td>     6</td>      <th>                     </th>     <td> </td>    \n",
       "</tr>\n",
       "<tr>\n",
       "  <th>Covariance Type:</th>      <td>nonrobust</td>    <th>                     </th>     <td> </td>    \n",
       "</tr>\n",
       "</table>\n",
       "<table class=\"simpletable\">\n",
       "<tr>\n",
       "         <td></td>           <th>coef</th>     <th>std err</th>      <th>t</th>      <th>P>|t|</th>  <th>[0.025</th>    <th>0.975]</th>  \n",
       "</tr>\n",
       "<tr>\n",
       "  <th>Intercept</th>      <td>   2.5e+06</td> <td> 1.87e+05</td> <td>   13.342</td> <td> 0.000</td> <td> 2.13e+06</td> <td> 2.87e+06</td>\n",
       "</tr>\n",
       "<tr>\n",
       "  <th>prim_pos[T.2B]</th> <td>-6.516e+05</td> <td> 2.43e+05</td> <td>   -2.683</td> <td> 0.007</td> <td>-1.13e+06</td> <td>-1.75e+05</td>\n",
       "</tr>\n",
       "<tr>\n",
       "  <th>prim_pos[T.3B]</th> <td> 8.658e+04</td> <td> 3.03e+05</td> <td>    0.286</td> <td> 0.775</td> <td>-5.09e+05</td> <td> 6.82e+05</td>\n",
       "</tr>\n",
       "<tr>\n",
       "  <th>prim_pos[T.C]</th>  <td>-6.548e+05</td> <td> 2.58e+05</td> <td>   -2.538</td> <td> 0.011</td> <td>-1.16e+06</td> <td>-1.48e+05</td>\n",
       "</tr>\n",
       "<tr>\n",
       "  <th>prim_pos[T.OF]</th> <td>-1.939e+05</td> <td> 2.24e+05</td> <td>   -0.865</td> <td> 0.387</td> <td>-6.34e+05</td> <td> 2.46e+05</td>\n",
       "</tr>\n",
       "<tr>\n",
       "  <th>prim_pos[T.P]</th>  <td>-6.462e+04</td> <td> 2.09e+05</td> <td>   -0.309</td> <td> 0.757</td> <td>-4.75e+05</td> <td> 3.46e+05</td>\n",
       "</tr>\n",
       "<tr>\n",
       "  <th>prim_pos[T.SS]</th> <td>-2.359e+05</td> <td> 3.19e+05</td> <td>   -0.741</td> <td> 0.459</td> <td>-8.61e+05</td> <td> 3.89e+05</td>\n",
       "</tr>\n",
       "</table>\n",
       "<table class=\"simpletable\">\n",
       "<tr>\n",
       "  <th>Omnibus:</th>       <td>124.970</td> <th>  Durbin-Watson:     </th> <td>   2.003</td>\n",
       "</tr>\n",
       "<tr>\n",
       "  <th>Prob(Omnibus):</th> <td> 0.000</td>  <th>  Jarque-Bera (JB):  </th> <td> 198.244</td>\n",
       "</tr>\n",
       "<tr>\n",
       "  <th>Skew:</th>          <td> 1.071</td>  <th>  Prob(JB):          </th> <td>8.95e-44</td>\n",
       "</tr>\n",
       "<tr>\n",
       "  <th>Kurtosis:</th>      <td> 4.302</td>  <th>  Cond. No.          </th> <td>    10.4</td>\n",
       "</tr>\n",
       "</table><br/><br/>Warnings:<br/>[1] Standard Errors assume that the covariance matrix of the errors is correctly specified."
      ],
      "text/plain": [
       "<class 'statsmodels.iolib.summary.Summary'>\n",
       "\"\"\"\n",
       "                            OLS Regression Results                            \n",
       "==============================================================================\n",
       "Dep. Variable:                 salary   R-squared:                       0.026\n",
       "Model:                            OLS   Adj. R-squared:                  0.018\n",
       "Method:                 Least Squares   F-statistic:                     3.283\n",
       "Date:                Wed, 07 Oct 2020   Prob (F-statistic):            0.00340\n",
       "Time:                        14:19:08   Log-Likelihood:                -11858.\n",
       "No. Observations:                 757   AIC:                         2.373e+04\n",
       "Df Residuals:                     750   BIC:                         2.376e+04\n",
       "Df Model:                           6                                         \n",
       "Covariance Type:            nonrobust                                         \n",
       "==================================================================================\n",
       "                     coef    std err          t      P>|t|      [0.025      0.975]\n",
       "----------------------------------------------------------------------------------\n",
       "Intercept         2.5e+06   1.87e+05     13.342      0.000    2.13e+06    2.87e+06\n",
       "prim_pos[T.2B] -6.516e+05   2.43e+05     -2.683      0.007   -1.13e+06   -1.75e+05\n",
       "prim_pos[T.3B]  8.658e+04   3.03e+05      0.286      0.775   -5.09e+05    6.82e+05\n",
       "prim_pos[T.C]  -6.548e+05   2.58e+05     -2.538      0.011   -1.16e+06   -1.48e+05\n",
       "prim_pos[T.OF] -1.939e+05   2.24e+05     -0.865      0.387   -6.34e+05    2.46e+05\n",
       "prim_pos[T.P]  -6.462e+04   2.09e+05     -0.309      0.757   -4.75e+05    3.46e+05\n",
       "prim_pos[T.SS] -2.359e+05   3.19e+05     -0.741      0.459   -8.61e+05    3.89e+05\n",
       "==============================================================================\n",
       "Omnibus:                      124.970   Durbin-Watson:                   2.003\n",
       "Prob(Omnibus):                  0.000   Jarque-Bera (JB):              198.244\n",
       "Skew:                           1.071   Prob(JB):                     8.95e-44\n",
       "Kurtosis:                       4.302   Cond. No.                         10.4\n",
       "==============================================================================\n",
       "\n",
       "Warnings:\n",
       "[1] Standard Errors assume that the covariance matrix of the errors is correctly specified.\n",
       "\"\"\""
      ]
     },
     "execution_count": 18,
     "metadata": {},
     "output_type": "execute_result"
    }
   ],
   "source": [
    "# why can we use ols in this case?\n",
    "anova_prim_pos = ols('salary~prim_pos', data=df).fit()\n",
    "anova_prim_pos.summary()"
   ]
  },
  {
   "cell_type": "code",
   "execution_count": 20,
   "metadata": {},
   "outputs": [
    {
     "data": {
      "text/plain": [
       "F_onewayResult(statistic=3.2830445373266963, pvalue=0.0034034193107985947)"
      ]
     },
     "execution_count": 20,
     "metadata": {},
     "output_type": "execute_result"
    }
   ],
   "source": [
    "stats.f_oneway(df['salary'][df['prim_pos'] == 'P'],\n",
    "                df['salary'][df['prim_pos'] == 'C'], \n",
    "                df['salary'][df['prim_pos'] == '1B'],\n",
    "                df['salary'][df['prim_pos'] == '2B'],\n",
    "                df['salary'][df['prim_pos'] == '3B'],\n",
    "                df['salary'][df['prim_pos'] == 'SS'],\n",
    "                df['salary'][df['prim_pos'] == 'OF'],\n",
    "                )"
   ]
  },
  {
   "cell_type": "markdown",
   "metadata": {},
   "source": [
    "# \n",
    "The low p-value shows that the means of the samples are equal. They probably came from the same distribution."
   ]
  },
  {
   "cell_type": "markdown",
   "metadata": {},
   "source": [
    "## Test 3: Two Sample T-Test\n",
    "\n",
    "Tests whether the means of two independent samples are significantly different.\n",
    "\n",
    "Assumptions\n",
    "\n",
    "    Observations in each sample are independent and identically distributed\n",
    "    Observations in each sample are normally distributed.\n",
    "    Observations in each sample have the same variance.\n",
    "    \n",
    "Interpretation\n",
    "\n",
    "    H0: the means of the samples are equal.\n",
    "    H1: the means of the samples are unequal."
   ]
  },
  {
   "cell_type": "code",
   "execution_count": 31,
   "metadata": {},
   "outputs": [
    {
     "name": "stdout",
     "output_type": "stream",
     "text": [
      "stat=1.206, p=0.228\n",
      "Probably the same distribution\n"
     ]
    }
   ],
   "source": [
    "stat, p = ttest_ind(df.salary[df.birthCountry_USA == 1], df.salary[df['birthCountry_P.R.'] == 1])\n",
    "print('stat=%.3f, p=%.3f' % (stat, p))\n",
    "if p > 0.05:\n",
    "    print('Probably the same distribution')\n",
    "else:\n",
    "    print('Probably different distributions')"
   ]
  },
  {
   "cell_type": "code",
   "execution_count": 32,
   "metadata": {},
   "outputs": [
    {
     "data": {
      "text/plain": [
       "Ttest_indResult(statistic=0.4086886132566688, pvalue=0.6829093121543901)"
      ]
     },
     "execution_count": 32,
     "metadata": {},
     "output_type": "execute_result"
    }
   ],
   "source": [
    "stats.ttest_ind(df.salary[df.birthCountry_USA == 1], df.salary[df['birthCountry_D.R.'] == 1])"
   ]
  },
  {
   "cell_type": "code",
   "execution_count": 33,
   "metadata": {},
   "outputs": [
    {
     "data": {
      "text/plain": [
       "Ttest_indResult(statistic=-1.111528638560003, pvalue=0.26967021300498945)"
      ]
     },
     "execution_count": 33,
     "metadata": {},
     "output_type": "execute_result"
    }
   ],
   "source": [
    "stats.ttest_ind(df.salary[df['birthCountry_P.R.'] == 1], df.salary[df['birthCountry_D.R.'] == 1])"
   ]
  },
  {
   "cell_type": "code",
   "execution_count": 34,
   "metadata": {},
   "outputs": [
    {
     "data": {
      "text/plain": [
       "Ttest_indResult(statistic=1.883279970343274, pvalue=0.060046598098764295)"
      ]
     },
     "execution_count": 34,
     "metadata": {},
     "output_type": "execute_result"
    }
   ],
   "source": [
    "stats.ttest_ind(df.salary[df.throws == 'L'], df.salary[df.throws == 'R'])"
   ]
  },
  {
   "cell_type": "markdown",
   "metadata": {},
   "source": [
    "## Test 4: One Sample Z-Test for Means\n",
    "\n"
   ]
  },
  {
   "cell_type": "code",
   "execution_count": 36,
   "metadata": {},
   "outputs": [
    {
     "data": {
      "text/plain": [
       "0.572631797992525"
      ]
     },
     "execution_count": 36,
     "metadata": {},
     "output_type": "execute_result"
    }
   ],
   "source": [
    "kelevin = df.salary[df['birthCountry_D.R.'] == 1].sample(n = 100, replace = True)\n",
    "\n",
    "# null hypothesis is that there is no correlation between being Dominican and getting a higher salary\n",
    "\n",
    "x = kelevin.mean()\n",
    "mu = df['salary'].mean()\n",
    "s = df['salary'].std()\n",
    "n = 100\n",
    "z =  (x - mu)/(s / np.sqrt(n))\n",
    "p = 1 - stats.norm.cdf(z)\n",
    "#if p < alpha  # Reject Null Hypothesis\n",
    "#if p > alpha  # Failed to reject Null Hypothesis\n",
    "p"
   ]
  },
  {
   "cell_type": "markdown",
   "metadata": {},
   "source": [
    "We fail to reject the null hypothesis"
   ]
  },
  {
   "cell_type": "markdown",
   "metadata": {},
   "source": [
    "## Visualizations"
   ]
  },
  {
   "cell_type": "code",
   "execution_count": 38,
   "metadata": {},
   "outputs": [
    {
     "data": {
      "text/plain": [
       "Text(0.5, 1.0, 'Distribution of Salary (Natural Log)')"
      ]
     },
     "execution_count": 38,
     "metadata": {},
     "output_type": "execute_result"
    },
    {
     "data": {
      "image/png": "[encoded data removed]",
      "text/plain": [
       "<Figure size 720x720 with 1 Axes>"
      ]
     },
     "metadata": {
      "needs_background": "light"
     },
     "output_type": "display_data"
    }
   ],
   "source": [
    "fig, axes = plt.subplots(figsize = (10,10))\n",
    "sns.distplot(df.salary_log, bins = 50)\n",
    "\n",
    "\n",
    "axes.set_xlabel('Salary (Natural Log)')\n",
    "axes.set_title('Distribution of Salary (Natural Log)')\n",
    "\n",
    "\n",
    "\n",
    "#plt.savefig('PNG/sal_dsit.png', dpi = 150)\n"
   ]
  },
  {
   "cell_type": "code",
   "execution_count": 40,
   "metadata": {},
   "outputs": [
    {
     "data": {
      "text/plain": [
       "<seaborn.axisgrid.FacetGrid at 0x7f917f20be50>"
      ]
     },
     "execution_count": 40,
     "metadata": {},
     "output_type": "execute_result"
    },
    {
     "data": {
      "image/png": "[encoded data removed]",
      "text/plain": [
       "<Figure size 360x360 with 1 Axes>"
      ]
     },
     "metadata": {
      "needs_background": "light"
     },
     "output_type": "display_data"
    }
   ],
   "source": [
    "\n",
    "#fig, axes = plt.subplots(figsize = (12,10))\n",
    "sns.lmplot(x='H',y='salary_log',data=df)\n",
    "\n",
    "\n",
    "\n",
    "\n",
    "#plt.savefig('PNG/sal_regress.png', dpi = 150)"
   ]
  },
  {
   "cell_type": "code",
   "execution_count": 41,
   "metadata": {},
   "outputs": [
    {
     "data": {
      "text/plain": [
       "<seaborn.axisgrid.FacetGrid at 0x7f917f4fda00>"
      ]
     },
     "execution_count": 41,
     "metadata": {},
     "output_type": "execute_result"
    },
    {
     "data": {
      "image/png": "[encoded data removed]",
      "text/plain": [
       "<Figure size 720x360 with 2 Axes>"
      ]
     },
     "metadata": {
      "needs_background": "light"
     },
     "output_type": "display_data"
    }
   ],
   "source": [
    "sns.lmplot(x='H',y='salary',data=df,col='throws')"
   ]
  },
  {
   "cell_type": "code",
   "execution_count": null,
   "metadata": {},
   "outputs": [],
   "source": []
  }
 ],
 "metadata": {
  "kernelspec": {
   "display_name": "Python 3",
   "language": "python",
   "name": "python3"
  },
  "language_info": {
   "codemirror_mode": {
    "name": "ipython",
    "version": 3
   },
   "file_extension": ".py",
   "mimetype": "text/x-python",
   "name": "python",
   "nbconvert_exporter": "python",
   "pygments_lexer": "ipython3",
   "version": "3.8.3"
  }
 },
 "nbformat": 4,
 "nbformat_minor": 4
}
