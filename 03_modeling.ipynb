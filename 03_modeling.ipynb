{
 "cells": [
  {
   "cell_type": "markdown",
   "metadata": {},
   "source": [
    "# Mod2 Project - Linear Regression Model\n",
    "\n",
    "Third Notebook"
   ]
  },
  {
   "cell_type": "markdown",
   "metadata": {},
   "source": [
    "## Now we move on to Modeling\n",
    "\n",
    "With the hypothesis tests done, we move on to the model itself. Our goal is to make an accurate prediction based on the data collected and the features engineered."
   ]
  },
  {
   "cell_type": "code",
   "execution_count": 1,
   "metadata": {},
   "outputs": [],
   "source": [
    "import pandas as pd\n",
    "import numpy as np \n",
    "import seaborn as sns\n",
    "import matplotlib.pyplot as plt\n",
    "from sklearn.model_selection import train_test_split\n",
    "from sklearn.linear_model import LinearRegression\n",
    "from sklearn import metrics\n",
    "import statsmodels.api as sm\n",
    "from statsmodels.formula.api import ols\n",
    "from sklearn.dummy import DummyRegressor\n",
    "from sklearn import linear_model\n",
    "from sklearn.metrics import r2_score\n",
    "from sklearn.preprocessing import PolynomialFeatures\n",
    "from sklearn.preprocessing import StandardScaler\n",
    "from statsmodels.stats.outliers_influence import variance_inflation_factor\n",
    "import sys\n",
    "from sklearn.linear_model import LassoCV\n",
    "sys.path.append('../')\n",
    "import helper as helper\n",
    "sns.set(style=\"whitegrid\")\n",
    "\n",
    "plt.style.use('seaborn')\n",
    "\n",
    "import warnings\n",
    "warnings.filterwarnings(\"ignore\")\n",
    "pd.set_option('display.max_columns', 300)\n",
    "pd.set_option('display.max_rows', 80)\n",
    "\n",
    "%matplotlib inline"
   ]
  },
  {
   "cell_type": "code",
   "execution_count": 2,
   "metadata": {},
   "outputs": [],
   "source": [
    "df = pd.read_csv('rookie.csv')"
   ]
  },
  {
   "cell_type": "markdown",
   "metadata": {},
   "source": [
    "## First we get a list of features\n",
    "\n",
    "Using the columns in our data, we remove anything that has to do with salary"
   ]
  },
  {
   "cell_type": "code",
   "execution_count": 4,
   "metadata": {},
   "outputs": [],
   "source": [
    "features = ['award_winner', 'G',\n",
    "       'AB', 'R', 'H', 'DBL', 'TPL', 'HR', 'RBI', 'SB', 'CS', 'BB', 'SO',\n",
    "       'IBB', 'HBP', 'SH', 'SF', 'GIDP', 'OBP', 'BA', 'TB', 'SLG', 'OPS',\n",
    "        'seasons', 'G_p', 'W_p', 'L_p', 'GS_p', 'CG', 'SHO_p',\n",
    "       'SV_p', 'IPouts', 'ER_p', 'HR_p', 'SO_p', 'IBB_p', 'BAOpp', 'ERA',\n",
    "       'WP', 'HBP_p', 'BK', 'BFP', 'GF', 'R_p', 'SH_p', 'SF_p', 'GIDP_p',\n",
    "       'WHIP', 'IP', 'BB_p', 'throws_R', 'bats_L', 'bats_R',\n",
    "       'prim_pos_2B', 'prim_pos_3B', 'prim_pos_C', 'prim_pos_OF',\n",
    "       'prim_pos_P', 'prim_pos_SS']\n",
    "\n",
    "con_col = ['AB', 'R', 'H', 'DBL', 'TPL', 'HR', 'RBI', 'SB', 'CS', 'BB', 'SO',\n",
    "       'IBB', 'HBP', 'SH', 'SF', 'GIDP', 'OBP', 'BA', 'TB', 'SLG', 'OPS',\n",
    "        'seasons', 'G_p', 'W_p', 'L_p', 'GS_p', 'CG', 'SHO_p',\n",
    "       'SV_p', 'IPouts', 'ER_p', 'HR_p', 'SO_p', 'IBB_p', 'BAOpp', 'ERA',\n",
    "       'WP', 'HBP_p', 'BK', 'BFP', 'GF', 'R_p', 'SH_p', 'SF_p', 'GIDP_p',\n",
    "       'WHIP', 'IP', 'BB_p']\n",
    "cat_col = ['throws_R', 'bats_L', 'bats_R',\n",
    "       'prim_pos_2B', 'prim_pos_3B', 'prim_pos_C', 'prim_pos_OF',\n",
    "       'prim_pos_P', 'prim_pos_SS']"
   ]
  },
  {
   "cell_type": "markdown",
   "metadata": {},
   "source": [
    "## Dummy Regression Model\n",
    "\n",
    "Run a baseline model to see what can be done with just the mean"
   ]
  },
  {
   "cell_type": "code",
   "execution_count": 5,
   "metadata": {},
   "outputs": [
    {
     "data": {
      "text/plain": [
       "0.0"
      ]
     },
     "execution_count": 5,
     "metadata": {},
     "output_type": "execute_result"
    }
   ],
   "source": [
    "y = df['salary']\n",
    "X = df[features]\n",
    "\n",
    "df_features = df[features]\n",
    "\n",
    "dummy_regr = DummyRegressor(strategy=\"mean\")\n",
    "dummy_regr.fit(X, y)\n",
    "kelevin = dummy_regr.predict(X)\n",
    "r2_score(y, kelevin)"
   ]
  },
  {
   "cell_type": "markdown",
   "metadata": {},
   "source": [
    "#### The R2 score for the baseline model is 0."
   ]
  },
  {
   "cell_type": "markdown",
   "metadata": {},
   "source": [
    "## Model Running Time"
   ]
  },
  {
   "cell_type": "code",
   "execution_count": 6,
   "metadata": {},
   "outputs": [
    {
     "name": "stdout",
     "output_type": "stream",
     "text": [
      "Training set - Features:  (795, 59) Target:  (795,)\n",
      "Training set - Features:  (199, 59) Target:  (199,)\n"
     ]
    }
   ],
   "source": [
    "target = df.salary\n",
    "\n",
    "X_train, X_test, y_train, y_test = train_test_split(df[features], target,\n",
    "                                                    random_state = 115, test_size = 0.2)\n",
    "\n",
    "X_train = helper.df_scaler(X_train,con_col)\n",
    "X_test = helper.df_scaler(X_test,con_col)\n",
    "y_train = helper.scaler(y_train)\n",
    "y_test = helper.scaler(y_test)\n",
    "\n",
    "X_train= X_train.replace(np.nan,0)\n",
    "X_test= X_test.replace(np.nan,0)\n",
    "y_train= y_train.replace(np.nan,0)\n",
    "y_test= y_test.replace(np.nan,0)\n",
    "\n",
    "#check the shape of the results\n",
    "print(\"Training set - Features: \", X_train.shape, \"Target: \", y_train.shape) \n",
    "print(\"Training set - Features: \", X_test.shape, \"Target: \",y_test.shape)    "
   ]
  },
  {
   "cell_type": "code",
   "execution_count": 7,
   "metadata": {},
   "outputs": [
    {
     "name": "stdout",
     "output_type": "stream",
     "text": [
      "Train R2: 0.46066799937069114\n",
      " Test R2: 0.38265523763145837\n",
      "        Features        Values\n",
      "50        BFP_sc  2.060796e+00\n",
      "43       SO_p_sc  6.579016e-01\n",
      "36       GS_p_sc  5.592571e-01\n",
      "0   award_winner  4.408308e-01\n",
      "41       ER_p_sc  3.588220e-01\n",
      "8    prim_pos_OF  3.166703e-01\n",
      "11         AB_sc  3.147466e-01\n",
      "9     prim_pos_P  2.558375e-01\n",
      "55     GIDP_p_sc  2.547015e-01\n",
      "16         HR_sc  2.535182e-01\n",
      "20         BB_sc  2.495532e-01\n",
      "39       SV_p_sc  2.492064e-01\n",
      "33        G_p_sc  2.115780e-01\n",
      "2       throws_R  2.078616e-01\n",
      "7     prim_pos_C  1.877811e-01\n",
      "17        RBI_sc  1.780457e-01\n",
      "13          H_sc  1.624892e-01\n",
      "15        TPL_sc  1.411057e-01\n",
      "29         TB_sc  1.356211e-01\n",
      "19         CS_sc  1.099978e-01\n",
      "5    prim_pos_2B  7.621194e-02\n",
      "31        OPS_sc  6.339948e-02\n",
      "10   prim_pos_SS  5.740757e-02\n",
      "37         CG_sc  4.766770e-02\n",
      "22        IBB_sc  4.351089e-02\n",
      "34        W_p_sc  3.746380e-02\n",
      "49         BK_sc  2.388222e-02\n",
      "6    prim_pos_3B  2.299227e-02\n",
      "30        SLG_sc  8.322602e-03\n",
      "46        ERA_sc  7.327472e-15\n",
      "56       WHIP_sc  0.000000e+00\n",
      "26       GIDP_sc -2.679988e-03\n",
      "47         WP_sc -7.491197e-03\n",
      "1              G -1.010861e-02\n",
      "12          R_sc -1.029416e-02\n",
      "27        OBP_sc -2.076808e-02\n",
      "48      HBP_p_sc -2.234873e-02\n",
      "4         bats_R -2.683148e-02\n",
      "53       SH_p_sc -2.975628e-02\n",
      "25         SF_sc -2.977712e-02\n",
      "54       SF_p_sc -3.366883e-02\n",
      "44      IBB_p_sc -3.774289e-02\n",
      "45      BAOpp_sc -3.799671e-02\n",
      "23        HBP_sc -4.391651e-02\n",
      "58       BB_p_sc -4.937488e-02\n",
      "3         bats_L -5.106018e-02\n",
      "38      SHO_p_sc -6.507027e-02\n",
      "18         SB_sc -6.717271e-02\n",
      "28         BA_sc -7.040954e-02\n",
      "35        L_p_sc -7.825126e-02\n",
      "24         SH_sc -9.011229e-02\n",
      "32    seasons_sc -9.239004e-02\n",
      "14        DBL_sc -1.068769e-01\n",
      "51         GF_sc -1.219788e-01\n",
      "42       HR_p_sc -1.527963e-01\n",
      "21         SO_sc -3.218451e-01\n",
      "52        R_p_sc -1.005472e+00\n",
      "57         IP_sc -1.049398e+00\n",
      "40     IPouts_sc -1.049398e+00\n"
     ]
    }
   ],
   "source": [
    "\n",
    "lm = LinearRegression()\n",
    "lm = lm.fit(X_train, y_train)\n",
    "        \n",
    "y_pred_train = lm.predict(X_train)\n",
    "y_pred_test = lm.predict(X_test)\n",
    "\n",
    "coef_df = pd.DataFrame()\n",
    "coef_df['Features'] = X_train.columns\n",
    "coef_df['Values'] = lm.coef_\n",
    "model_coef = coef_df.sort_values(by='Values', ascending = False)\n",
    "\n",
    "    \n",
    "train_R2 = r2_score(y_train, y_pred_train)\n",
    "test_R2 = r2_score(y_test, y_pred_test)\n",
    "\n",
    "\n",
    "print('Train R2:', train_R2)\n",
    "print(' Test R2:', test_R2)\n",
    "print(model_coef)"
   ]
  },
  {
   "cell_type": "markdown",
   "metadata": {},
   "source": [
    "### The training R2 score was about 46%.\n",
    "### The test R2 score was about 38%"
   ]
  },
  {
   "cell_type": "code",
   "execution_count": 8,
   "metadata": {},
   "outputs": [
    {
     "name": "stdout",
     "output_type": "stream",
     "text": [
      "Training R2: 0.070217057038238\n",
      " Testing R2: 0.08121847516094405\n"
     ]
    }
   ],
   "source": [
    "from sklearn.linear_model import Lasso\n",
    "\n",
    "lasso = Lasso(alpha=.01, normalize=True)\n",
    "lasso.fit(X_train, y_train)\n",
    "\n",
    "y_train_pred_lasso = lasso.predict(X_train)\n",
    "y_test_pred_lasso = lasso.predict(X_test)\n",
    "\n",
    "\n",
    "trainr2 = r2_score(y_train, y_train_pred_lasso)\n",
    "testr2 = r2_score(y_test, y_test_pred_lasso)\n",
    "print('Training R2: '+ str(trainr2) )\n",
    "print(' Testing R2: '+ str(testr2) )\n",
    "\n"
   ]
  },
  {
   "cell_type": "code",
   "execution_count": 9,
   "metadata": {},
   "outputs": [
    {
     "data": {
      "text/plain": [
       "Text(0, 0.5, 'Predictions')"
      ]
     },
     "execution_count": 9,
     "metadata": {},
     "output_type": "execute_result"
    },
    {
     "data": {
      "image/png": "[encoded data removed]",
      "text/plain": [
       "<Figure size 432x288 with 1 Axes>"
      ]
     },
     "metadata": {
      "needs_background": "light"
     },
     "output_type": "display_data"
    }
   ],
   "source": [
    "## The line / model\n",
    "plt.scatter(y_test, y_test_pred_lasso)\n",
    "plt.xlabel(\"True Values\")\n",
    "plt.ylabel(\"Predictions\")"
   ]
  },
  {
   "cell_type": "code",
   "execution_count": 10,
   "metadata": {},
   "outputs": [
    {
     "name": "stdout",
     "output_type": "stream",
     "text": [
      "Training R2: 0.2548974931917828\n",
      " Testing R2: 0.2834934950695127\n"
     ]
    }
   ],
   "source": [
    "from sklearn.linear_model import Lasso\n",
    "\n",
    "lasso1 = Lasso(alpha=.1, normalize=False)\n",
    "\n",
    "lasso1.fit(X_train,y_train)\n",
    "\n",
    "y_train_lasso1 = lasso1.predict(X_train)\n",
    "y_pred_lasso1 = lasso1.predict(X_test)\n",
    "\n",
    "trainr2 = r2_score(y_train, y_train_lasso1)\n",
    "testr2 = r2_score(y_test, y_pred_lasso1)\n",
    "print('Training R2: '+ str(trainr2) )\n",
    "print(' Testing R2: '+ str(testr2) )"
   ]
  },
  {
   "cell_type": "markdown",
   "metadata": {},
   "source": [
    "### Using Lasso, my test model had a R2 of 28%"
   ]
  },
  {
   "cell_type": "markdown",
   "metadata": {},
   "source": [
    "## Generate Polynomial and Interaction features"
   ]
  },
  {
   "cell_type": "markdown",
   "metadata": {},
   "source": [
    "poly_2 = PolynomialFeatures(degree=2, include_bias=False)\n",
    "poly2_data = poly_2.fit_transform(df_features)\n",
    "poly2_columns = poly_2.get_feature_names(df_features.columns)\n",
    "df_poly2 = pd.DataFrame(poly2_data, columns=poly2_columns)\n",
    "#df_poly2.head()\n",
    "df_poly2.shape"
   ]
  },
  {
   "cell_type": "markdown",
   "metadata": {},
   "source": [
    "X_train, X_test, y_train, y_test = train_test_split(df_poly2, target, random_state=105,test_size=0.2)"
   ]
  },
  {
   "cell_type": "markdown",
   "metadata": {},
   "source": [
    "scaler2 = StandardScaler()\n",
    "# fit the scaler to the training data\n",
    "scaler2.fit(X_train)\n",
    "\n",
    "#transform the training data\n",
    "X_train = pd.DataFrame(data=scaler2.transform(X_train), columns=df_poly2[con_col])\n",
    "\n",
    "#transform the testing dat\n",
    "X_test = pd.DataFrame(data=scaler2.transform(X_test), columns=df_poly2[con_col])"
   ]
  },
  {
   "cell_type": "markdown",
   "metadata": {},
   "source": [
    "# instantiate a linear regression object\n",
    "lm_2 = LinearRegression()\n",
    "\n",
    "#fit the linear regression to the data\n",
    "lm_2 = lm_2.fit(X_train, y_train)\n",
    "\n",
    "y_train_pred = lm_2.predict(X_train)\n",
    "\n",
    "train_rmse = np.sqrt(metrics.mean_squared_error((y_train), (y_train_pred)))\n",
    "\n",
    "\n",
    "print('Training Root Mean Squared Error:' , train_rmse)"
   ]
  },
  {
   "cell_type": "markdown",
   "metadata": {},
   "source": [
    "# use fitted model to predict on test data\n",
    "y_pred = lm_2.predict(X_test)\n",
    "\n",
    "test_rmse = np.sqrt(metrics.mean_squared_error((y_test), (y_pred)))\n",
    "\n",
    "print('Testing Root Mean Squared Error:' , test_rmse)\n",
    "\n",
    "\n",
    "print('Training: ', int(train_rmse), \"vs. Testing: \", int(test_rmse))"
   ]
  },
  {
   "cell_type": "markdown",
   "metadata": {},
   "source": [
    "np.exp(y_test)"
   ]
  },
  {
   "cell_type": "markdown",
   "metadata": {},
   "source": [
    "vif = pd.DataFrame()\n",
    "vif[\"VIF Factor\"] = [variance_inflation_factor(df_features.values, i) for i in range(df_features.shape[1])]\n",
    "vif[\"features\"] = df_features.columns\n",
    "vif.round(1)"
   ]
  },
  {
   "cell_type": "markdown",
   "metadata": {},
   "source": [
    "from sklearn.feature_selection import SelectKBest, f_regression,mutual_info_regression\n",
    "\n",
    "selector = SelectKBest(f_regression, k=20)\n",
    "\n",
    "selector.fit(X_train, y_train)"
   ]
  },
  {
   "cell_type": "markdown",
   "metadata": {},
   "source": [
    "selected_columns = X_train.columns[selector.get_support()]\n",
    "removed_columns = X_train.columns[~selector.get_support()]\n",
    "X_train = X_train[selected_columns]\n",
    "X_test = X_test[selected_columns]"
   ]
  },
  {
   "cell_type": "markdown",
   "metadata": {},
   "source": [
    "#instantiate a linear regression object\n",
    "lm_kbest = LinearRegression()\n",
    "\n",
    "#fit the linear regression to the data\n",
    "lm_kbest = lm_kbest.fit(X_train[selected_columns], y_train)\n",
    "\n",
    "y_train_kbest = lm_kbest.predict(X_train[selected_columns])\n",
    "\n",
    "\n",
    "trainK_rmse = np.sqrt(metrics.mean_squared_error(y_train, y_train_kbest))\n",
    "\n",
    "\n",
    "print('Training Root Mean Squared Error:' , trainK_rmse)\n",
    "\n",
    "y_kbest = lm_kbest.predict(X_test[selected_columns])\n",
    "\n",
    "testK_rmse = np.sqrt(metrics.mean_squared_error(y_test, y_kbest))\n",
    "\n",
    "print('Testing Root Mean Squared Error:' , testK_rmse)\n",
    "\n",
    "\n",
    "print('Original: ', test_rmse, \"vs. KBest: \", testK_rmse)"
   ]
  },
  {
   "cell_type": "markdown",
   "metadata": {},
   "source": [
    "## The line / model\n",
    "plt.scatter(y_test, y_pred)\n",
    "plt.xlabel(\"True Values\")\n",
    "plt.ylabel(\"Predictions\")"
   ]
  },
  {
   "cell_type": "markdown",
   "metadata": {},
   "source": [
    "sns.residplot(y_pred, y_test, lowess=True, color=\"g\")"
   ]
  },
  {
   "cell_type": "code",
   "execution_count": null,
   "metadata": {},
   "outputs": [],
   "source": []
  },
  {
   "cell_type": "markdown",
   "metadata": {},
   "source": [
    "# There is a problem happening and it seems that it happens due to the mixture of pitchers and batters"
   ]
  },
  {
   "cell_type": "code",
   "execution_count": 11,
   "metadata": {},
   "outputs": [],
   "source": [
    "pitch = df[df['prim_pos'].eq('P')]\n",
    "bat = df[df['prim_pos'].ne('P')]"
   ]
  },
  {
   "cell_type": "code",
   "execution_count": 12,
   "metadata": {},
   "outputs": [
    {
     "data": {
      "text/html": [
       "<div>\n",
       "<style scoped>\n",
       "    .dataframe tbody tr th:only-of-type {\n",
       "        vertical-align: middle;\n",
       "    }\n",
       "\n",
       "    .dataframe tbody tr th {\n",
       "        vertical-align: top;\n",
       "    }\n",
       "\n",
       "    .dataframe thead th {\n",
       "        text-align: right;\n",
       "    }\n",
       "</style>\n",
       "<table border=\"1\" class=\"dataframe\">\n",
       "  <thead>\n",
       "    <tr style=\"text-align: right;\">\n",
       "      <th></th>\n",
       "      <th>Unnamed: 0</th>\n",
       "      <th>playerID</th>\n",
       "      <th>birthYear</th>\n",
       "      <th>nameFirst</th>\n",
       "      <th>nameLast</th>\n",
       "      <th>weight</th>\n",
       "      <th>height</th>\n",
       "      <th>debut</th>\n",
       "      <th>finalGame</th>\n",
       "      <th>award_winner</th>\n",
       "      <th>G</th>\n",
       "      <th>AB</th>\n",
       "      <th>R</th>\n",
       "      <th>H</th>\n",
       "      <th>DBL</th>\n",
       "      <th>TPL</th>\n",
       "      <th>HR</th>\n",
       "      <th>RBI</th>\n",
       "      <th>SB</th>\n",
       "      <th>CS</th>\n",
       "      <th>BB</th>\n",
       "      <th>SO</th>\n",
       "      <th>IBB</th>\n",
       "      <th>HBP</th>\n",
       "      <th>SH</th>\n",
       "      <th>SF</th>\n",
       "      <th>GIDP</th>\n",
       "      <th>OBP</th>\n",
       "      <th>BA</th>\n",
       "      <th>TB</th>\n",
       "      <th>SLG</th>\n",
       "      <th>OPS</th>\n",
       "      <th>salary</th>\n",
       "      <th>seasons</th>\n",
       "      <th>G_p</th>\n",
       "      <th>W_p</th>\n",
       "      <th>L_p</th>\n",
       "      <th>GS_p</th>\n",
       "      <th>CG</th>\n",
       "      <th>SHO_p</th>\n",
       "      <th>SV_p</th>\n",
       "      <th>IPouts</th>\n",
       "      <th>ER_p</th>\n",
       "      <th>HR_p</th>\n",
       "      <th>SO_p</th>\n",
       "      <th>IBB_p</th>\n",
       "      <th>BAOpp</th>\n",
       "      <th>ERA</th>\n",
       "      <th>WP</th>\n",
       "      <th>HBP_p</th>\n",
       "      <th>BK</th>\n",
       "      <th>BFP</th>\n",
       "      <th>GF</th>\n",
       "      <th>R_p</th>\n",
       "      <th>SH_p</th>\n",
       "      <th>SF_p</th>\n",
       "      <th>GIDP_p</th>\n",
       "      <th>WHIP</th>\n",
       "      <th>IP</th>\n",
       "      <th>BB_p</th>\n",
       "      <th>throws_R</th>\n",
       "      <th>bats_L</th>\n",
       "      <th>bats_R</th>\n",
       "      <th>prim_pos_2B</th>\n",
       "      <th>prim_pos_3B</th>\n",
       "      <th>prim_pos_C</th>\n",
       "      <th>prim_pos_OF</th>\n",
       "      <th>prim_pos_P</th>\n",
       "      <th>prim_pos_SS</th>\n",
       "      <th>throws</th>\n",
       "      <th>prim_pos</th>\n",
       "    </tr>\n",
       "  </thead>\n",
       "  <tbody>\n",
       "    <tr>\n",
       "      <th>2</th>\n",
       "      <td>2</td>\n",
       "      <td>abreuto01</td>\n",
       "      <td>1984.0</td>\n",
       "      <td>Tony</td>\n",
       "      <td>Abreu</td>\n",
       "      <td>200.0</td>\n",
       "      <td>70.0</td>\n",
       "      <td>2007-05-22</td>\n",
       "      <td>2014-07-28</td>\n",
       "      <td>0</td>\n",
       "      <td>48.666667</td>\n",
       "      <td>122.333333</td>\n",
       "      <td>11.666667</td>\n",
       "      <td>30.666667</td>\n",
       "      <td>8.333333</td>\n",
       "      <td>0.666667</td>\n",
       "      <td>1.000000</td>\n",
       "      <td>10.333333</td>\n",
       "      <td>0.666667</td>\n",
       "      <td>0.666667</td>\n",
       "      <td>4.666667</td>\n",
       "      <td>23.333333</td>\n",
       "      <td>0.333333</td>\n",
       "      <td>1.000000</td>\n",
       "      <td>0.000000</td>\n",
       "      <td>2.000000</td>\n",
       "      <td>4.333333</td>\n",
       "      <td>0.335772</td>\n",
       "      <td>0.251415</td>\n",
       "      <td>53.333333</td>\n",
       "      <td>0.379815</td>\n",
       "      <td>0.715586</td>\n",
       "      <td>745000.0</td>\n",
       "      <td>4.0</td>\n",
       "      <td>0.0</td>\n",
       "      <td>0.0</td>\n",
       "      <td>0.0</td>\n",
       "      <td>0.0</td>\n",
       "      <td>0.0</td>\n",
       "      <td>0.0</td>\n",
       "      <td>0.0</td>\n",
       "      <td>0.0</td>\n",
       "      <td>0.0</td>\n",
       "      <td>0.0</td>\n",
       "      <td>0.0</td>\n",
       "      <td>0.0</td>\n",
       "      <td>0.0</td>\n",
       "      <td>0.0</td>\n",
       "      <td>0.0</td>\n",
       "      <td>0.0</td>\n",
       "      <td>0.0</td>\n",
       "      <td>0.0</td>\n",
       "      <td>0.0</td>\n",
       "      <td>0.0</td>\n",
       "      <td>0.0</td>\n",
       "      <td>0.0</td>\n",
       "      <td>0.0</td>\n",
       "      <td>0.0</td>\n",
       "      <td>0.0</td>\n",
       "      <td>0.0</td>\n",
       "      <td>1</td>\n",
       "      <td>0</td>\n",
       "      <td>0</td>\n",
       "      <td>1</td>\n",
       "      <td>0</td>\n",
       "      <td>0</td>\n",
       "      <td>0</td>\n",
       "      <td>0</td>\n",
       "      <td>0</td>\n",
       "      <td>R</td>\n",
       "      <td>2B</td>\n",
       "    </tr>\n",
       "    <tr>\n",
       "      <th>4</th>\n",
       "      <td>4</td>\n",
       "      <td>ackledu01</td>\n",
       "      <td>1988.0</td>\n",
       "      <td>Dustin</td>\n",
       "      <td>Ackley</td>\n",
       "      <td>205.0</td>\n",
       "      <td>73.0</td>\n",
       "      <td>2011-06-17</td>\n",
       "      <td>2016-05-29</td>\n",
       "      <td>0</td>\n",
       "      <td>118.666667</td>\n",
       "      <td>441.333333</td>\n",
       "      <td>54.333333</td>\n",
       "      <td>108.333333</td>\n",
       "      <td>18.666667</td>\n",
       "      <td>3.666667</td>\n",
       "      <td>7.333333</td>\n",
       "      <td>39.000000</td>\n",
       "      <td>7.000000</td>\n",
       "      <td>2.000000</td>\n",
       "      <td>45.333333</td>\n",
       "      <td>91.666667</td>\n",
       "      <td>3.000000</td>\n",
       "      <td>0.333333</td>\n",
       "      <td>1.666667</td>\n",
       "      <td>1.666667</td>\n",
       "      <td>4.000000</td>\n",
       "      <td>0.320469</td>\n",
       "      <td>0.250526</td>\n",
       "      <td>186.000000</td>\n",
       "      <td>0.431767</td>\n",
       "      <td>0.752236</td>\n",
       "      <td>2600000.0</td>\n",
       "      <td>5.0</td>\n",
       "      <td>0.0</td>\n",
       "      <td>0.0</td>\n",
       "      <td>0.0</td>\n",
       "      <td>0.0</td>\n",
       "      <td>0.0</td>\n",
       "      <td>0.0</td>\n",
       "      <td>0.0</td>\n",
       "      <td>0.0</td>\n",
       "      <td>0.0</td>\n",
       "      <td>0.0</td>\n",
       "      <td>0.0</td>\n",
       "      <td>0.0</td>\n",
       "      <td>0.0</td>\n",
       "      <td>0.0</td>\n",
       "      <td>0.0</td>\n",
       "      <td>0.0</td>\n",
       "      <td>0.0</td>\n",
       "      <td>0.0</td>\n",
       "      <td>0.0</td>\n",
       "      <td>0.0</td>\n",
       "      <td>0.0</td>\n",
       "      <td>0.0</td>\n",
       "      <td>0.0</td>\n",
       "      <td>0.0</td>\n",
       "      <td>0.0</td>\n",
       "      <td>0.0</td>\n",
       "      <td>1</td>\n",
       "      <td>1</td>\n",
       "      <td>0</td>\n",
       "      <td>0</td>\n",
       "      <td>0</td>\n",
       "      <td>0</td>\n",
       "      <td>0</td>\n",
       "      <td>0</td>\n",
       "      <td>0</td>\n",
       "      <td>R</td>\n",
       "      <td>1B</td>\n",
       "    </tr>\n",
       "    <tr>\n",
       "      <th>5</th>\n",
       "      <td>5</td>\n",
       "      <td>adamsma01</td>\n",
       "      <td>1988.0</td>\n",
       "      <td>Matt</td>\n",
       "      <td>Adams</td>\n",
       "      <td>245.0</td>\n",
       "      <td>75.0</td>\n",
       "      <td>2012-05-20</td>\n",
       "      <td>2020-07-29</td>\n",
       "      <td>0</td>\n",
       "      <td>92.333333</td>\n",
       "      <td>303.000000</td>\n",
       "      <td>36.333333</td>\n",
       "      <td>85.666667</td>\n",
       "      <td>18.000000</td>\n",
       "      <td>1.666667</td>\n",
       "      <td>11.333333</td>\n",
       "      <td>44.000000</td>\n",
       "      <td>1.000000</td>\n",
       "      <td>1.000000</td>\n",
       "      <td>18.000000</td>\n",
       "      <td>72.666667</td>\n",
       "      <td>1.666667</td>\n",
       "      <td>1.000000</td>\n",
       "      <td>0.000000</td>\n",
       "      <td>2.333333</td>\n",
       "      <td>7.000000</td>\n",
       "      <td>0.314210</td>\n",
       "      <td>0.272132</td>\n",
       "      <td>172.000000</td>\n",
       "      <td>0.548208</td>\n",
       "      <td>0.862418</td>\n",
       "      <td>1650000.0</td>\n",
       "      <td>4.0</td>\n",
       "      <td>0.0</td>\n",
       "      <td>0.0</td>\n",
       "      <td>0.0</td>\n",
       "      <td>0.0</td>\n",
       "      <td>0.0</td>\n",
       "      <td>0.0</td>\n",
       "      <td>0.0</td>\n",
       "      <td>0.0</td>\n",
       "      <td>0.0</td>\n",
       "      <td>0.0</td>\n",
       "      <td>0.0</td>\n",
       "      <td>0.0</td>\n",
       "      <td>0.0</td>\n",
       "      <td>0.0</td>\n",
       "      <td>0.0</td>\n",
       "      <td>0.0</td>\n",
       "      <td>0.0</td>\n",
       "      <td>0.0</td>\n",
       "      <td>0.0</td>\n",
       "      <td>0.0</td>\n",
       "      <td>0.0</td>\n",
       "      <td>0.0</td>\n",
       "      <td>0.0</td>\n",
       "      <td>0.0</td>\n",
       "      <td>0.0</td>\n",
       "      <td>0.0</td>\n",
       "      <td>1</td>\n",
       "      <td>1</td>\n",
       "      <td>0</td>\n",
       "      <td>0</td>\n",
       "      <td>0</td>\n",
       "      <td>0</td>\n",
       "      <td>0</td>\n",
       "      <td>0</td>\n",
       "      <td>0</td>\n",
       "      <td>R</td>\n",
       "      <td>1B</td>\n",
       "    </tr>\n",
       "    <tr>\n",
       "      <th>12</th>\n",
       "      <td>12</td>\n",
       "      <td>alonsyo01</td>\n",
       "      <td>1987.0</td>\n",
       "      <td>Yonder</td>\n",
       "      <td>Alonso</td>\n",
       "      <td>230.0</td>\n",
       "      <td>73.0</td>\n",
       "      <td>2010-09-01</td>\n",
       "      <td>2019-09-29</td>\n",
       "      <td>0</td>\n",
       "      <td>74.666667</td>\n",
       "      <td>222.000000</td>\n",
       "      <td>19.333333</td>\n",
       "      <td>61.666667</td>\n",
       "      <td>15.000000</td>\n",
       "      <td>0.000000</td>\n",
       "      <td>4.666667</td>\n",
       "      <td>26.666667</td>\n",
       "      <td>1.000000</td>\n",
       "      <td>0.000000</td>\n",
       "      <td>24.000000</td>\n",
       "      <td>44.000000</td>\n",
       "      <td>3.000000</td>\n",
       "      <td>1.000000</td>\n",
       "      <td>0.333333</td>\n",
       "      <td>1.333333</td>\n",
       "      <td>5.666667</td>\n",
       "      <td>0.317584</td>\n",
       "      <td>0.269889</td>\n",
       "      <td>110.333333</td>\n",
       "      <td>0.491143</td>\n",
       "      <td>0.808727</td>\n",
       "      <td>1650000.0</td>\n",
       "      <td>5.0</td>\n",
       "      <td>0.0</td>\n",
       "      <td>0.0</td>\n",
       "      <td>0.0</td>\n",
       "      <td>0.0</td>\n",
       "      <td>0.0</td>\n",
       "      <td>0.0</td>\n",
       "      <td>0.0</td>\n",
       "      <td>0.0</td>\n",
       "      <td>0.0</td>\n",
       "      <td>0.0</td>\n",
       "      <td>0.0</td>\n",
       "      <td>0.0</td>\n",
       "      <td>0.0</td>\n",
       "      <td>0.0</td>\n",
       "      <td>0.0</td>\n",
       "      <td>0.0</td>\n",
       "      <td>0.0</td>\n",
       "      <td>0.0</td>\n",
       "      <td>0.0</td>\n",
       "      <td>0.0</td>\n",
       "      <td>0.0</td>\n",
       "      <td>0.0</td>\n",
       "      <td>0.0</td>\n",
       "      <td>0.0</td>\n",
       "      <td>0.0</td>\n",
       "      <td>0.0</td>\n",
       "      <td>1</td>\n",
       "      <td>1</td>\n",
       "      <td>0</td>\n",
       "      <td>0</td>\n",
       "      <td>0</td>\n",
       "      <td>0</td>\n",
       "      <td>0</td>\n",
       "      <td>0</td>\n",
       "      <td>0</td>\n",
       "      <td>R</td>\n",
       "      <td>1B</td>\n",
       "    </tr>\n",
       "    <tr>\n",
       "      <th>13</th>\n",
       "      <td>13</td>\n",
       "      <td>altuvjo01</td>\n",
       "      <td>1990.0</td>\n",
       "      <td>Jose</td>\n",
       "      <td>Altuve</td>\n",
       "      <td>166.0</td>\n",
       "      <td>66.0</td>\n",
       "      <td>2011-07-20</td>\n",
       "      <td>2020-07-29</td>\n",
       "      <td>1</td>\n",
       "      <td>118.666667</td>\n",
       "      <td>474.333333</td>\n",
       "      <td>56.666667</td>\n",
       "      <td>135.000000</td>\n",
       "      <td>25.000000</td>\n",
       "      <td>2.333333</td>\n",
       "      <td>4.666667</td>\n",
       "      <td>33.666667</td>\n",
       "      <td>25.000000</td>\n",
       "      <td>9.000000</td>\n",
       "      <td>25.666667</td>\n",
       "      <td>62.666667</td>\n",
       "      <td>1.666667</td>\n",
       "      <td>3.333333</td>\n",
       "      <td>4.333333</td>\n",
       "      <td>4.333333</td>\n",
       "      <td>12.333333</td>\n",
       "      <td>0.317689</td>\n",
       "      <td>0.282899</td>\n",
       "      <td>210.666667</td>\n",
       "      <td>0.439014</td>\n",
       "      <td>0.756703</td>\n",
       "      <td>2500000.0</td>\n",
       "      <td>5.0</td>\n",
       "      <td>0.0</td>\n",
       "      <td>0.0</td>\n",
       "      <td>0.0</td>\n",
       "      <td>0.0</td>\n",
       "      <td>0.0</td>\n",
       "      <td>0.0</td>\n",
       "      <td>0.0</td>\n",
       "      <td>0.0</td>\n",
       "      <td>0.0</td>\n",
       "      <td>0.0</td>\n",
       "      <td>0.0</td>\n",
       "      <td>0.0</td>\n",
       "      <td>0.0</td>\n",
       "      <td>0.0</td>\n",
       "      <td>0.0</td>\n",
       "      <td>0.0</td>\n",
       "      <td>0.0</td>\n",
       "      <td>0.0</td>\n",
       "      <td>0.0</td>\n",
       "      <td>0.0</td>\n",
       "      <td>0.0</td>\n",
       "      <td>0.0</td>\n",
       "      <td>0.0</td>\n",
       "      <td>0.0</td>\n",
       "      <td>0.0</td>\n",
       "      <td>0.0</td>\n",
       "      <td>1</td>\n",
       "      <td>0</td>\n",
       "      <td>1</td>\n",
       "      <td>1</td>\n",
       "      <td>0</td>\n",
       "      <td>0</td>\n",
       "      <td>0</td>\n",
       "      <td>0</td>\n",
       "      <td>0</td>\n",
       "      <td>R</td>\n",
       "      <td>2B</td>\n",
       "    </tr>\n",
       "  </tbody>\n",
       "</table>\n",
       "</div>"
      ],
      "text/plain": [
       "    Unnamed: 0   playerID  birthYear nameFirst nameLast  weight  height  \\\n",
       "2            2  abreuto01     1984.0      Tony    Abreu   200.0    70.0   \n",
       "4            4  ackledu01     1988.0    Dustin   Ackley   205.0    73.0   \n",
       "5            5  adamsma01     1988.0      Matt    Adams   245.0    75.0   \n",
       "12          12  alonsyo01     1987.0    Yonder   Alonso   230.0    73.0   \n",
       "13          13  altuvjo01     1990.0      Jose   Altuve   166.0    66.0   \n",
       "\n",
       "         debut   finalGame  award_winner           G          AB          R  \\\n",
       "2   2007-05-22  2014-07-28             0   48.666667  122.333333  11.666667   \n",
       "4   2011-06-17  2016-05-29             0  118.666667  441.333333  54.333333   \n",
       "5   2012-05-20  2020-07-29             0   92.333333  303.000000  36.333333   \n",
       "12  2010-09-01  2019-09-29             0   74.666667  222.000000  19.333333   \n",
       "13  2011-07-20  2020-07-29             1  118.666667  474.333333  56.666667   \n",
       "\n",
       "             H        DBL       TPL         HR        RBI         SB  \\\n",
       "2    30.666667   8.333333  0.666667   1.000000  10.333333   0.666667   \n",
       "4   108.333333  18.666667  3.666667   7.333333  39.000000   7.000000   \n",
       "5    85.666667  18.000000  1.666667  11.333333  44.000000   1.000000   \n",
       "12   61.666667  15.000000  0.000000   4.666667  26.666667   1.000000   \n",
       "13  135.000000  25.000000  2.333333   4.666667  33.666667  25.000000   \n",
       "\n",
       "          CS         BB         SO       IBB       HBP        SH        SF  \\\n",
       "2   0.666667   4.666667  23.333333  0.333333  1.000000  0.000000  2.000000   \n",
       "4   2.000000  45.333333  91.666667  3.000000  0.333333  1.666667  1.666667   \n",
       "5   1.000000  18.000000  72.666667  1.666667  1.000000  0.000000  2.333333   \n",
       "12  0.000000  24.000000  44.000000  3.000000  1.000000  0.333333  1.333333   \n",
       "13  9.000000  25.666667  62.666667  1.666667  3.333333  4.333333  4.333333   \n",
       "\n",
       "         GIDP       OBP        BA          TB       SLG       OPS     salary  \\\n",
       "2    4.333333  0.335772  0.251415   53.333333  0.379815  0.715586   745000.0   \n",
       "4    4.000000  0.320469  0.250526  186.000000  0.431767  0.752236  2600000.0   \n",
       "5    7.000000  0.314210  0.272132  172.000000  0.548208  0.862418  1650000.0   \n",
       "12   5.666667  0.317584  0.269889  110.333333  0.491143  0.808727  1650000.0   \n",
       "13  12.333333  0.317689  0.282899  210.666667  0.439014  0.756703  2500000.0   \n",
       "\n",
       "    seasons  G_p  W_p  L_p  GS_p   CG  SHO_p  SV_p  IPouts  ER_p  HR_p  SO_p  \\\n",
       "2       4.0  0.0  0.0  0.0   0.0  0.0    0.0   0.0     0.0   0.0   0.0   0.0   \n",
       "4       5.0  0.0  0.0  0.0   0.0  0.0    0.0   0.0     0.0   0.0   0.0   0.0   \n",
       "5       4.0  0.0  0.0  0.0   0.0  0.0    0.0   0.0     0.0   0.0   0.0   0.0   \n",
       "12      5.0  0.0  0.0  0.0   0.0  0.0    0.0   0.0     0.0   0.0   0.0   0.0   \n",
       "13      5.0  0.0  0.0  0.0   0.0  0.0    0.0   0.0     0.0   0.0   0.0   0.0   \n",
       "\n",
       "    IBB_p  BAOpp  ERA   WP  HBP_p   BK  BFP   GF  R_p  SH_p  SF_p  GIDP_p  \\\n",
       "2     0.0    0.0  0.0  0.0    0.0  0.0  0.0  0.0  0.0   0.0   0.0     0.0   \n",
       "4     0.0    0.0  0.0  0.0    0.0  0.0  0.0  0.0  0.0   0.0   0.0     0.0   \n",
       "5     0.0    0.0  0.0  0.0    0.0  0.0  0.0  0.0  0.0   0.0   0.0     0.0   \n",
       "12    0.0    0.0  0.0  0.0    0.0  0.0  0.0  0.0  0.0   0.0   0.0     0.0   \n",
       "13    0.0    0.0  0.0  0.0    0.0  0.0  0.0  0.0  0.0   0.0   0.0     0.0   \n",
       "\n",
       "    WHIP   IP  BB_p  throws_R  bats_L  bats_R  prim_pos_2B  prim_pos_3B  \\\n",
       "2    0.0  0.0   0.0         1       0       0            1            0   \n",
       "4    0.0  0.0   0.0         1       1       0            0            0   \n",
       "5    0.0  0.0   0.0         1       1       0            0            0   \n",
       "12   0.0  0.0   0.0         1       1       0            0            0   \n",
       "13   0.0  0.0   0.0         1       0       1            1            0   \n",
       "\n",
       "    prim_pos_C  prim_pos_OF  prim_pos_P  prim_pos_SS throws prim_pos  \n",
       "2            0            0           0            0      R       2B  \n",
       "4            0            0           0            0      R       1B  \n",
       "5            0            0           0            0      R       1B  \n",
       "12           0            0           0            0      R       1B  \n",
       "13           0            0           0            0      R       2B  "
      ]
     },
     "execution_count": 12,
     "metadata": {},
     "output_type": "execute_result"
    }
   ],
   "source": [
    "bat.head()"
   ]
  },
  {
   "cell_type": "code",
   "execution_count": 13,
   "metadata": {},
   "outputs": [],
   "source": [
    "pitch = pitch[['playerID','award_winner','salary','seasons','G_p','W_p','L_p','GS_p','CG','SHO_p','SV_p','IPouts',\n",
    "               'ER_p','HR_p','SO_p','IBB_p','BAOpp','ERA','WP','HBP_p','BK','BFP','GF','R_p','SH_p','SF_p','GIDP_p',\n",
    "               'WHIP','IP','BB_p','throws_R']]\n",
    "bat = bat[['playerID','award_winner','salary','seasons','G','AB','R','H','DBL','TPL','HR','RBI','SB','CS','BB','SO',\n",
    "           'IBB','HBP','SH','SF','GIDP','OBP','BA','TB','SLG','OPS','throws_R','bats_L','bats_R','prim_pos_2B',\n",
    "           'prim_pos_3B','prim_pos_C','prim_pos_OF','prim_pos_P','prim_pos_SS']]"
   ]
  },
  {
   "cell_type": "code",
   "execution_count": 14,
   "metadata": {},
   "outputs": [
    {
     "name": "stdout",
     "output_type": "stream",
     "text": [
      "(495, 31)\n",
      "(499, 35)\n"
     ]
    }
   ],
   "source": [
    "print(pitch.shape)\n",
    "print(bat.shape)\n"
   ]
  },
  {
   "cell_type": "markdown",
   "metadata": {},
   "source": [
    "## First we look at batters"
   ]
  },
  {
   "cell_type": "code",
   "execution_count": 15,
   "metadata": {},
   "outputs": [
    {
     "data": {
      "text/plain": [
       "array(['playerID', 'award_winner', 'salary', 'seasons', 'G', 'AB', 'R',\n",
       "       'H', 'DBL', 'TPL', 'HR', 'RBI', 'SB', 'CS', 'BB', 'SO', 'IBB',\n",
       "       'HBP', 'SH', 'SF', 'GIDP', 'OBP', 'BA', 'TB', 'SLG', 'OPS',\n",
       "       'throws_R', 'bats_L', 'bats_R', 'prim_pos_2B', 'prim_pos_3B',\n",
       "       'prim_pos_C', 'prim_pos_OF', 'prim_pos_P', 'prim_pos_SS'],\n",
       "      dtype=object)"
      ]
     },
     "execution_count": 15,
     "metadata": {},
     "output_type": "execute_result"
    }
   ],
   "source": [
    "bat.columns.values"
   ]
  },
  {
   "cell_type": "code",
   "execution_count": 16,
   "metadata": {},
   "outputs": [],
   "source": [
    "features = ['award_winner', 'seasons', 'G', 'AB', 'R',\n",
    "       'H', 'DBL', 'TPL', 'HR', 'RBI', 'SB', 'CS', 'BB', 'SO', 'IBB',\n",
    "       'HBP', 'SH', 'SF', 'GIDP', 'OBP', 'BA', 'TB', 'SLG', 'OPS',\n",
    "       'throws_R', 'bats_L', 'bats_R', 'prim_pos_2B', 'prim_pos_3B',\n",
    "       'prim_pos_C', 'prim_pos_OF', 'prim_pos_P', 'prim_pos_SS']\n",
    "\n",
    "bat_con_cols = ['AB', 'R',\n",
    "       'H', 'DBL', 'TPL', 'HR', 'RBI', 'SB', 'CS', 'BB', 'SO', 'IBB',\n",
    "       'HBP', 'SH', 'SF', 'GIDP', 'OBP', 'BA', 'TB', 'SLG', 'OPS']\n",
    "bat_cat_cols = ['seasons', 'G','throws_R', 'bats_L', 'bats_R', 'prim_pos_2B', 'prim_pos_3B',\n",
    "       'prim_pos_C', 'prim_pos_OF', 'prim_pos_P', 'prim_pos_SS']"
   ]
  },
  {
   "cell_type": "code",
   "execution_count": 17,
   "metadata": {},
   "outputs": [
    {
     "data": {
      "text/plain": [
       "0.0"
      ]
     },
     "execution_count": 17,
     "metadata": {},
     "output_type": "execute_result"
    }
   ],
   "source": [
    "y = bat['salary']\n",
    "X = bat[features]\n",
    "\n",
    "bat_features = bat[features]\n",
    "\n",
    "dummy_regr = DummyRegressor(strategy=\"mean\")\n",
    "dummy_regr.fit(X, y)\n",
    "kelevin = dummy_regr.predict(X)\n",
    "r2_score(y, kelevin)"
   ]
  },
  {
   "cell_type": "code",
   "execution_count": 18,
   "metadata": {},
   "outputs": [
    {
     "name": "stdout",
     "output_type": "stream",
     "text": [
      "Training set - Features:  (399, 33) Target:  (399,)\n",
      "Testing set - Features:  (100, 33) Target:  (100,)\n"
     ]
    }
   ],
   "source": [
    "target = bat.salary\n",
    "\n",
    "X_train, X_test, y_train, y_test = train_test_split(bat[features], target,\n",
    "                                                    random_state = 115, test_size = 0.2)\n",
    "\n",
    "X_train_bat = helper.df_scaler(X_train,bat_con_cols)\n",
    "X_test_bat = helper.df_scaler(X_test,bat_con_cols)\n",
    "y_train_bat = helper.scaler(y_train)\n",
    "y_test_bat = helper.scaler(y_test)\n",
    "\n",
    "X_train_bat = X_train_bat.replace(np.nan,0)\n",
    "X_test_bat = X_test_bat.replace(np.nan,0)\n",
    "y_train_bat = y_train_bat.replace(np.nan,0)\n",
    "y_test_bat = y_test_bat.replace(np.nan,0)\n",
    "\n",
    "#check the shape of the results\n",
    "print(\"Training set - Features: \", X_train.shape, \"Target: \", y_train.shape) \n",
    "print(\"Testing set - Features: \", X_test.shape, \"Target: \",y_test.shape)    "
   ]
  },
  {
   "cell_type": "code",
   "execution_count": 19,
   "metadata": {},
   "outputs": [
    {
     "name": "stdout",
     "output_type": "stream",
     "text": [
      "\n",
      "\n",
      "Train R2: 0.4881541693770626\n",
      " Test R2: 0.25380045577228794\n",
      "\n",
      "\n",
      "        Features        Values\n",
      "20            BA  3.695882e+06\n",
      "0   award_winner  9.268839e+05\n",
      "24      throws_R  3.209316e+05\n",
      "30   prim_pos_OF  2.067154e+05\n",
      "26        bats_R  1.965653e+05\n",
      "14           IBB  1.622202e+05\n",
      "11            CS  1.280618e+05\n",
      "7            TPL  9.923410e+04\n",
      "12            BB  4.083897e+04\n",
      "21            TB  3.740435e+04\n",
      "17            SF  2.659457e+04\n",
      "22           SLG  1.757141e+04\n",
      "9            RBI  1.204624e+04\n",
      "3             AB  2.732627e+02\n",
      "31    prim_pos_P  0.000000e+00\n",
      "5              H -2.102222e+03\n",
      "8             HR -4.582319e+03\n",
      "10            SB -5.730693e+03\n",
      "15           HBP -5.907641e+03\n",
      "13            SO -1.585202e+04\n",
      "2              G -1.819363e+04\n",
      "4              R -3.594988e+04\n",
      "1        seasons -7.378991e+04\n",
      "18          GIDP -8.295553e+04\n",
      "16            SH -9.708796e+04\n",
      "29    prim_pos_C -9.945272e+04\n",
      "6            DBL -1.199332e+05\n",
      "25        bats_L -1.462969e+05\n",
      "27   prim_pos_2B -2.855133e+05\n",
      "28   prim_pos_3B -4.163148e+05\n",
      "32   prim_pos_SS -4.266917e+05\n",
      "23           OPS -1.385793e+06\n",
      "19           OBP -1.403364e+06\n"
     ]
    }
   ],
   "source": [
    "lm = LinearRegression()\n",
    "lm = lm.fit(X_train, y_train)\n",
    "        \n",
    "y_pred_train = lm.predict(X_train)\n",
    "y_pred_test = lm.predict(X_test)\n",
    "\n",
    "#print('The intercept is ' + str(lm.intercept_))\n",
    "print('\\n')\n",
    "#print('The coefficients are ' + str(lm.coef_))\n",
    "coef_df = pd.DataFrame()\n",
    "coef_df['Features'] = X_train.columns\n",
    "coef_df['Values'] = lm.coef_\n",
    "model_coef = coef_df.sort_values(by='Values', ascending = False)\n",
    "\n",
    "    \n",
    "train_R2 = r2_score(y_train, y_pred_train)\n",
    "test_R2 = r2_score(y_test, y_pred_test)\n",
    "\n",
    "\n",
    "print('Train R2:', train_R2)\n",
    "print(' Test R2:', test_R2)\n",
    "print('\\n')\n",
    "print(model_coef)"
   ]
  },
  {
   "cell_type": "code",
   "execution_count": 20,
   "metadata": {},
   "outputs": [
    {
     "data": {
      "image/png": "[encoded data removed]",
      "text/plain": [
       "<Figure size 1080x720 with 1 Axes>"
      ]
     },
     "metadata": {
      "needs_background": "light"
     },
     "output_type": "display_data"
    }
   ],
   "source": [
    "fig, ax = plt.subplots(figsize=(15,10))\n",
    "model_coef.loc[model_coef['Values'] !=0].plot.barh(x='Features', y= 'Values', ax= ax, legend=False)\n",
    "ax.set_ylabel('Features', fontsize=16)\n",
    "ax.set_title('Linear Regression Coefficients')\n",
    "\n",
    "plt.savefig('PNG/linreg_coef.png', dpi=300, \n",
    "            bbox_inches= 'tight', padding_inches = 4, transparent = True )"
   ]
  },
  {
   "cell_type": "code",
   "execution_count": 21,
   "metadata": {},
   "outputs": [
    {
     "name": "stdout",
     "output_type": "stream",
     "text": [
      "Training R2: 0.3354388736809011\n",
      " Testing R2: 0.3394311040225355\n",
      "        Features        Values\n",
      "20         CS_sc  3.695882e+06\n",
      "0   award_winner  9.268839e+05\n",
      "24        HBP_sc  3.209316e+05\n",
      "30         TB_sc  2.067154e+05\n",
      "26         SF_sc  1.965653e+05\n",
      "14          H_sc  1.622202e+05\n",
      "11   prim_pos_SS  1.280618e+05\n",
      "7    prim_pos_3B  9.923410e+04\n",
      "12         AB_sc  4.083897e+04\n",
      "21         BB_sc  3.740435e+04\n",
      "17         HR_sc  2.659457e+04\n",
      "22         SO_sc  1.757141e+04\n",
      "9    prim_pos_OF  1.204624e+04\n",
      "3       throws_R  2.732627e+02\n",
      "31        SLG_sc  0.000000e+00\n",
      "5         bats_R -2.102222e+03\n",
      "8     prim_pos_C -4.582319e+03\n",
      "10    prim_pos_P -5.730693e+03\n",
      "15        DBL_sc -5.907641e+03\n",
      "13          R_sc -1.585202e+04\n",
      "2              G -1.819363e+04\n",
      "4         bats_L -3.594988e+04\n",
      "1        seasons -7.378991e+04\n",
      "18        RBI_sc -8.295553e+04\n",
      "16        TPL_sc -9.708796e+04\n",
      "29         BA_sc -9.945272e+04\n",
      "6    prim_pos_2B -1.199332e+05\n",
      "25         SH_sc -1.462969e+05\n",
      "27       GIDP_sc -2.855133e+05\n",
      "28        OBP_sc -4.163148e+05\n",
      "32        OPS_sc -4.266917e+05\n",
      "23        IBB_sc -1.385793e+06\n",
      "19         SB_sc -1.403364e+06\n"
     ]
    }
   ],
   "source": [
    "\n",
    "lasso = Lasso(alpha=.01, normalize=True)\n",
    "lasso.fit(X_train_bat, y_train_bat)\n",
    "\n",
    "y_train_pred_lasso = lasso.predict(X_train_bat)\n",
    "y_test_pred_lasso = lasso.predict(X_test_bat)\n",
    "\n",
    "coef_df = pd.DataFrame()\n",
    "coef_df['Features'] = X_train_bat.columns\n",
    "coef_df['Values'] = lm.coef_\n",
    "model_coef = coef_df.sort_values(by='Values', ascending = False)\n",
    "\n",
    "trainr2 = r2_score(y_train_bat, y_train_pred_lasso)\n",
    "testr2 = r2_score(y_test_bat, y_test_pred_lasso)\n",
    "print('Training R2: '+ str(trainr2) )\n",
    "print(' Testing R2: '+ str(testr2) )\n",
    "\n",
    "print(model_coef)\n",
    "\n"
   ]
  },
  {
   "cell_type": "code",
   "execution_count": 22,
   "metadata": {},
   "outputs": [],
   "source": [
    "from sklearn import ensemble"
   ]
  },
  {
   "cell_type": "code",
   "execution_count": 23,
   "metadata": {},
   "outputs": [],
   "source": [
    "GBest = ensemble.GradientBoostingRegressor(n_estimators=3000, learning_rate=0.05, max_depth=3, max_features='sqrt',\n",
    "                                               min_samples_leaf=15, min_samples_split=10, loss='huber')"
   ]
  },
  {
   "cell_type": "code",
   "execution_count": 24,
   "metadata": {},
   "outputs": [
    {
     "name": "stdout",
     "output_type": "stream",
     "text": [
      "Train R^2: 0.8605657524297087\n",
      "Test R^2: 0.41040775172170785\n"
     ]
    }
   ],
   "source": [
    "GBest.fit(X_train_bat, y_train_bat)\n",
    "y_train_pred_gb =  GBest.predict(X_train_bat)\n",
    "y_pred_gb = GBest.predict(X_test_bat)\n",
    "\n",
    "\n",
    "train_r2 = r2_score(y_train_bat, y_train_pred_gb)\n",
    "test_r2 = r2_score(y_test_bat, y_pred_gb)\n",
    "print('Train R^2: ' + str(train_r2))\n",
    "print('Test R^2: ' + str(test_r2))\n"
   ]
  },
  {
   "cell_type": "code",
   "execution_count": 25,
   "metadata": {},
   "outputs": [
    {
     "name": "stderr",
     "output_type": "stream",
     "text": [
      "[Parallel(n_jobs=-1)]: Using backend ThreadingBackend with 4 concurrent workers.\n",
      "...................................................................................................................................................................................................................................................................................................................................................................................................................................................................................................................."
     ]
    },
    {
     "name": "stdout",
     "output_type": "stream",
     "text": [
      "R2 of Train LassoCV:  0.44192770166866435\n",
      "R2 of Test LassoCV:  0.38961588840305195\n"
     ]
    },
    {
     "name": "stderr",
     "output_type": "stream",
     "text": [
      "[Parallel(n_jobs=-1)]: Done   5 out of   5 | elapsed:    0.2s finished\n"
     ]
    }
   ],
   "source": [
    "lassoCV_model = LassoCV(cv=5, random_state=42, verbose=1, n_jobs = -1)\n",
    "lassoCV_model.fit(X_train_bat, y_train_bat)\n",
    "trainr2 = lassoCV_model.score(X_train_bat, y_train_bat)\n",
    "testr2 = lassoCV_model.score(X_test_bat, y_test_bat)\n",
    "\n",
    "lassoCV_pred = lassoCV_model.predict(X_test_bat)\n",
    "print('R2 of Train LassoCV: ', trainr2)\n",
    "print('R2 of Test LassoCV: ', testr2)"
   ]
  },
  {
   "cell_type": "code",
   "execution_count": 26,
   "metadata": {},
   "outputs": [
    {
     "data": {
      "text/html": [
       "<div>\n",
       "<style scoped>\n",
       "    .dataframe tbody tr th:only-of-type {\n",
       "        vertical-align: middle;\n",
       "    }\n",
       "\n",
       "    .dataframe tbody tr th {\n",
       "        vertical-align: top;\n",
       "    }\n",
       "\n",
       "    .dataframe thead th {\n",
       "        text-align: right;\n",
       "    }\n",
       "</style>\n",
       "<table border=\"1\" class=\"dataframe\">\n",
       "  <thead>\n",
       "    <tr style=\"text-align: right;\">\n",
       "      <th></th>\n",
       "      <th>features</th>\n",
       "      <th>values</th>\n",
       "    </tr>\n",
       "  </thead>\n",
       "  <tbody>\n",
       "    <tr>\n",
       "      <th>0</th>\n",
       "      <td>award_winner</td>\n",
       "      <td>0.329867</td>\n",
       "    </tr>\n",
       "    <tr>\n",
       "      <th>17</th>\n",
       "      <td>HR_sc</td>\n",
       "      <td>0.322607</td>\n",
       "    </tr>\n",
       "    <tr>\n",
       "      <th>23</th>\n",
       "      <td>IBB_sc</td>\n",
       "      <td>0.180059</td>\n",
       "    </tr>\n",
       "    <tr>\n",
       "      <th>16</th>\n",
       "      <td>TPL_sc</td>\n",
       "      <td>0.120528</td>\n",
       "    </tr>\n",
       "    <tr>\n",
       "      <th>20</th>\n",
       "      <td>CS_sc</td>\n",
       "      <td>0.116444</td>\n",
       "    </tr>\n",
       "    <tr>\n",
       "      <th>21</th>\n",
       "      <td>BB_sc</td>\n",
       "      <td>0.048416</td>\n",
       "    </tr>\n",
       "    <tr>\n",
       "      <th>14</th>\n",
       "      <td>H_sc</td>\n",
       "      <td>0.022022</td>\n",
       "    </tr>\n",
       "    <tr>\n",
       "      <th>18</th>\n",
       "      <td>RBI_sc</td>\n",
       "      <td>0.020547</td>\n",
       "    </tr>\n",
       "    <tr>\n",
       "      <th>19</th>\n",
       "      <td>SB_sc</td>\n",
       "      <td>0.002924</td>\n",
       "    </tr>\n",
       "    <tr>\n",
       "      <th>5</th>\n",
       "      <td>bats_R</td>\n",
       "      <td>0.000000</td>\n",
       "    </tr>\n",
       "    <tr>\n",
       "      <th>31</th>\n",
       "      <td>SLG_sc</td>\n",
       "      <td>-0.000000</td>\n",
       "    </tr>\n",
       "    <tr>\n",
       "      <th>30</th>\n",
       "      <td>TB_sc</td>\n",
       "      <td>0.000000</td>\n",
       "    </tr>\n",
       "    <tr>\n",
       "      <th>29</th>\n",
       "      <td>BA_sc</td>\n",
       "      <td>-0.000000</td>\n",
       "    </tr>\n",
       "    <tr>\n",
       "      <th>28</th>\n",
       "      <td>OBP_sc</td>\n",
       "      <td>-0.000000</td>\n",
       "    </tr>\n",
       "    <tr>\n",
       "      <th>27</th>\n",
       "      <td>GIDP_sc</td>\n",
       "      <td>0.000000</td>\n",
       "    </tr>\n",
       "    <tr>\n",
       "      <th>26</th>\n",
       "      <td>SF_sc</td>\n",
       "      <td>0.000000</td>\n",
       "    </tr>\n",
       "    <tr>\n",
       "      <th>24</th>\n",
       "      <td>HBP_sc</td>\n",
       "      <td>0.000000</td>\n",
       "    </tr>\n",
       "    <tr>\n",
       "      <th>22</th>\n",
       "      <td>SO_sc</td>\n",
       "      <td>-0.000000</td>\n",
       "    </tr>\n",
       "    <tr>\n",
       "      <th>4</th>\n",
       "      <td>bats_L</td>\n",
       "      <td>-0.000000</td>\n",
       "    </tr>\n",
       "    <tr>\n",
       "      <th>3</th>\n",
       "      <td>throws_R</td>\n",
       "      <td>0.000000</td>\n",
       "    </tr>\n",
       "    <tr>\n",
       "      <th>15</th>\n",
       "      <td>DBL_sc</td>\n",
       "      <td>0.000000</td>\n",
       "    </tr>\n",
       "    <tr>\n",
       "      <th>13</th>\n",
       "      <td>R_sc</td>\n",
       "      <td>0.000000</td>\n",
       "    </tr>\n",
       "    <tr>\n",
       "      <th>12</th>\n",
       "      <td>AB_sc</td>\n",
       "      <td>0.000000</td>\n",
       "    </tr>\n",
       "    <tr>\n",
       "      <th>11</th>\n",
       "      <td>prim_pos_SS</td>\n",
       "      <td>-0.000000</td>\n",
       "    </tr>\n",
       "    <tr>\n",
       "      <th>10</th>\n",
       "      <td>prim_pos_P</td>\n",
       "      <td>0.000000</td>\n",
       "    </tr>\n",
       "    <tr>\n",
       "      <th>9</th>\n",
       "      <td>prim_pos_OF</td>\n",
       "      <td>0.000000</td>\n",
       "    </tr>\n",
       "    <tr>\n",
       "      <th>8</th>\n",
       "      <td>prim_pos_C</td>\n",
       "      <td>0.000000</td>\n",
       "    </tr>\n",
       "    <tr>\n",
       "      <th>7</th>\n",
       "      <td>prim_pos_3B</td>\n",
       "      <td>-0.000000</td>\n",
       "    </tr>\n",
       "    <tr>\n",
       "      <th>6</th>\n",
       "      <td>prim_pos_2B</td>\n",
       "      <td>-0.000000</td>\n",
       "    </tr>\n",
       "    <tr>\n",
       "      <th>32</th>\n",
       "      <td>OPS_sc</td>\n",
       "      <td>-0.000000</td>\n",
       "    </tr>\n",
       "    <tr>\n",
       "      <th>2</th>\n",
       "      <td>G</td>\n",
       "      <td>-0.003033</td>\n",
       "    </tr>\n",
       "    <tr>\n",
       "      <th>1</th>\n",
       "      <td>seasons</td>\n",
       "      <td>-0.018128</td>\n",
       "    </tr>\n",
       "    <tr>\n",
       "      <th>25</th>\n",
       "      <td>SH_sc</td>\n",
       "      <td>-0.075307</td>\n",
       "    </tr>\n",
       "  </tbody>\n",
       "</table>\n",
       "</div>"
      ],
      "text/plain": [
       "        features    values\n",
       "0   award_winner  0.329867\n",
       "17         HR_sc  0.322607\n",
       "23        IBB_sc  0.180059\n",
       "16        TPL_sc  0.120528\n",
       "20         CS_sc  0.116444\n",
       "21         BB_sc  0.048416\n",
       "14          H_sc  0.022022\n",
       "18        RBI_sc  0.020547\n",
       "19         SB_sc  0.002924\n",
       "5         bats_R  0.000000\n",
       "31        SLG_sc -0.000000\n",
       "30         TB_sc  0.000000\n",
       "29         BA_sc -0.000000\n",
       "28        OBP_sc -0.000000\n",
       "27       GIDP_sc  0.000000\n",
       "26         SF_sc  0.000000\n",
       "24        HBP_sc  0.000000\n",
       "22         SO_sc -0.000000\n",
       "4         bats_L -0.000000\n",
       "3       throws_R  0.000000\n",
       "15        DBL_sc  0.000000\n",
       "13          R_sc  0.000000\n",
       "12         AB_sc  0.000000\n",
       "11   prim_pos_SS -0.000000\n",
       "10    prim_pos_P  0.000000\n",
       "9    prim_pos_OF  0.000000\n",
       "8     prim_pos_C  0.000000\n",
       "7    prim_pos_3B -0.000000\n",
       "6    prim_pos_2B -0.000000\n",
       "32        OPS_sc -0.000000\n",
       "2              G -0.003033\n",
       "1        seasons -0.018128\n",
       "25         SH_sc -0.075307"
      ]
     },
     "execution_count": 26,
     "metadata": {},
     "output_type": "execute_result"
    }
   ],
   "source": [
    "coef_df = pd.DataFrame()\n",
    "coef_df['features'] = X_train_bat.columns\n",
    "coef_df['values'] = lassoCV_model.coef_\n",
    "model_coef = coef_df.sort_values(by='values', ascending= False)\n",
    "model_coef"
   ]
  },
  {
   "cell_type": "markdown",
   "metadata": {},
   "source": [
    "## Next are the pitchers"
   ]
  },
  {
   "cell_type": "code",
   "execution_count": 32,
   "metadata": {},
   "outputs": [],
   "source": [
    "features = ['award_winner',  'seasons', 'G_p', 'W_p',\n",
    "       'L_p', 'GS_p', 'CG', 'SHO_p', 'SV_p', 'IPouts', 'ER_p', 'HR_p',\n",
    "       'SO_p', 'IBB_p', 'BAOpp', 'ERA', 'WP', 'HBP_p', 'BK', 'BFP', 'GF',\n",
    "       'R_p', 'SH_p', 'SF_p', 'GIDP_p', 'WHIP', 'IP', 'BB_p', 'throws_R']\n",
    "\n",
    "pitch_con_cols = [ 'W_p',\n",
    "       'L_p', 'GS_p', 'CG', 'SHO_p', 'SV_p', 'IPouts', 'ER_p', 'HR_p',\n",
    "       'SO_p', 'IBB_p', 'BAOpp', 'ERA', 'WP', 'HBP_p', 'BK', 'BFP', 'GF',\n",
    "       'R_p', 'SH_p', 'SF_p', 'GIDP_p', 'WHIP', 'IP', 'BB_p']\n",
    "pitch_cat_cols = ['award_winner',  'seasons', 'G_p','throws_R']"
   ]
  },
  {
   "cell_type": "code",
   "execution_count": 33,
   "metadata": {},
   "outputs": [
    {
     "data": {
      "text/plain": [
       "0.0"
      ]
     },
     "execution_count": 33,
     "metadata": {},
     "output_type": "execute_result"
    }
   ],
   "source": [
    "y = pitch['salary']\n",
    "X = pitch[features]\n",
    "\n",
    "pitch_features = pitch[features]\n",
    "\n",
    "dummy_regr = DummyRegressor(strategy=\"mean\")\n",
    "dummy_regr.fit(X, y)\n",
    "kelevin = dummy_regr.predict(X)\n",
    "r2_score(y, kelevin)"
   ]
  },
  {
   "cell_type": "code",
   "execution_count": 34,
   "metadata": {},
   "outputs": [
    {
     "name": "stdout",
     "output_type": "stream",
     "text": [
      "Training set - Features:  (396, 29) Target:  (396,)\n",
      "Testing set - Features:  (99, 29) Target:  (99,)\n"
     ]
    }
   ],
   "source": [
    "target = pitch.salary\n",
    "\n",
    "X_train, X_test, y_train, y_test = train_test_split(pitch[features], target,\n",
    "                                                    random_state = 115, test_size = 0.2)\n",
    "\n",
    "X_train_pitch = helper.df_scaler(X_train,pitch_con_cols)\n",
    "X_test_pitch = helper.df_scaler(X_test,pitch_con_cols)\n",
    "y_train_pitch = helper.scaler(y_train)\n",
    "y_test_pitch = helper.scaler(y_test)\n",
    "\n",
    "X_train_pitch = X_train_pitch.replace(np.nan,0)\n",
    "X_test_pitch = X_test_pitch.replace(np.nan,0)\n",
    "y_train_pitch = y_train_pitch.replace(np.nan,0)\n",
    "y_test_pitch = y_test_pitch.replace(np.nan,0)\n",
    "\n",
    "#check the shape of the results\n",
    "print(\"Training set - Features: \", X_train_pitch.shape, \"Target: \", y_train_pitch.shape) \n",
    "print(\"Testing set - Features: \", X_test_pitch.shape, \"Target: \",y_test_pitch.shape)    "
   ]
  },
  {
   "cell_type": "code",
   "execution_count": 35,
   "metadata": {},
   "outputs": [
    {
     "name": "stdout",
     "output_type": "stream",
     "text": [
      "\n",
      "\n",
      "Train R2: 0.4737493998884188\n",
      " Test R2: 0.4053092246680836\n",
      "\n",
      "\n",
      "        Features        Values\n",
      "6        GS_p_sc  5.577912e-01\n",
      "13       SO_p_sc  5.151817e-01\n",
      "9        SV_p_sc  3.748545e-01\n",
      "4         W_p_sc  1.633671e-01\n",
      "25     GIDP_p_sc  1.411513e-01\n",
      "10     IPouts_sc  7.993417e-02\n",
      "27         IP_sc  7.993417e-02\n",
      "17         WP_sc  7.003876e-02\n",
      "3       throws_R  6.795823e-02\n",
      "14      IBB_p_sc  3.957206e-02\n",
      "7          CG_sc  1.845039e-02\n",
      "16        ERA_sc  1.110223e-15\n",
      "26       WHIP_sc  0.000000e+00\n",
      "2            G_p -4.539654e-03\n",
      "1        seasons -5.549084e-03\n",
      "15      BAOpp_sc -1.144087e-02\n",
      "22        R_p_sc -1.985030e-02\n",
      "0   award_winner -2.105371e-02\n",
      "24       SF_p_sc -2.914223e-02\n",
      "19         BK_sc -3.159190e-02\n",
      "8       SHO_p_sc -6.222243e-02\n",
      "18      HBP_p_sc -6.709700e-02\n",
      "21         GF_sc -7.227104e-02\n",
      "5         L_p_sc -7.386399e-02\n",
      "23       SH_p_sc -9.150983e-02\n",
      "28       BB_p_sc -9.956999e-02\n",
      "20        BFP_sc -1.390453e-01\n",
      "11       ER_p_sc -2.468806e-01\n",
      "12       HR_p_sc -2.842295e-01\n"
     ]
    }
   ],
   "source": [
    "\n",
    "lm = LinearRegression()\n",
    "lm = lm.fit(X_train_pitch, y_train_pitch)\n",
    "        \n",
    "y_pred_train = lm.predict(X_train_pitch)\n",
    "y_pred_test = lm.predict(X_test_pitch)\n",
    "\n",
    "#print('The intercept is ' + str(lm.intercept_))\n",
    "print('\\n')\n",
    "#print('The coefficients are ' + str(lm.coef_))\n",
    "coef_df = pd.DataFrame()\n",
    "coef_df['Features'] = X_train_pitch.columns\n",
    "coef_df['Values'] = lm.coef_\n",
    "model_coef = coef_df.sort_values(by='Values', ascending = False)\n",
    "\n",
    "    \n",
    "train_R2 = r2_score(y_train_pitch, y_pred_train)\n",
    "test_R2 = r2_score(y_test_pitch, y_pred_test)\n",
    "\n",
    "\n",
    "print('Train R2:', train_R2)\n",
    "print(' Test R2:', test_R2)\n",
    "print('\\n')\n",
    "print(model_coef)"
   ]
  },
  {
   "cell_type": "code",
   "execution_count": 36,
   "metadata": {},
   "outputs": [
    {
     "name": "stdout",
     "output_type": "stream",
     "text": [
      "Training R2: 0.30105259256526296\n",
      " Testing R2: 0.29482348812326276\n",
      "        Features        Values\n",
      "6        GS_p_sc  5.577912e-01\n",
      "13       SO_p_sc  5.151817e-01\n",
      "9        SV_p_sc  3.748545e-01\n",
      "4         W_p_sc  1.633671e-01\n",
      "25     GIDP_p_sc  1.411513e-01\n",
      "10     IPouts_sc  7.993417e-02\n",
      "27         IP_sc  7.993417e-02\n",
      "17         WP_sc  7.003876e-02\n",
      "3       throws_R  6.795823e-02\n",
      "14      IBB_p_sc  3.957206e-02\n",
      "7          CG_sc  1.845039e-02\n",
      "16        ERA_sc  1.110223e-15\n",
      "26       WHIP_sc  0.000000e+00\n",
      "2            G_p -4.539654e-03\n",
      "1        seasons -5.549084e-03\n",
      "15      BAOpp_sc -1.144087e-02\n",
      "22        R_p_sc -1.985030e-02\n",
      "0   award_winner -2.105371e-02\n",
      "24       SF_p_sc -2.914223e-02\n",
      "19         BK_sc -3.159190e-02\n",
      "8       SHO_p_sc -6.222243e-02\n",
      "18      HBP_p_sc -6.709700e-02\n",
      "21         GF_sc -7.227104e-02\n",
      "5         L_p_sc -7.386399e-02\n",
      "23       SH_p_sc -9.150983e-02\n",
      "28       BB_p_sc -9.956999e-02\n",
      "20        BFP_sc -1.390453e-01\n",
      "11       ER_p_sc -2.468806e-01\n",
      "12       HR_p_sc -2.842295e-01\n"
     ]
    }
   ],
   "source": [
    "\n",
    "lasso = Lasso(alpha=.01, normalize=True)\n",
    "lasso.fit(X_train_pitch, y_train_pitch)\n",
    "\n",
    "y_train_pred_lasso = lasso.predict(X_train_pitch)\n",
    "y_test_pred_lasso = lasso.predict(X_test_pitch)\n",
    "\n",
    "coef_df = pd.DataFrame()\n",
    "coef_df['Features'] = X_train_pitch.columns\n",
    "coef_df['Values'] = lm.coef_\n",
    "model_coef = coef_df.sort_values(by='Values', ascending = False)\n",
    "\n",
    "trainr2 = r2_score(y_train_pitch, y_train_pred_lasso)\n",
    "testr2 = r2_score(y_test_pitch, y_test_pred_lasso)\n",
    "print('Training R2: '+ str(trainr2) )\n",
    "print(' Testing R2: '+ str(testr2) )\n",
    "\n",
    "print(model_coef)\n",
    "\n"
   ]
  },
  {
   "cell_type": "code",
   "execution_count": 37,
   "metadata": {},
   "outputs": [],
   "source": [
    "GBest = ensemble.GradientBoostingRegressor(n_estimators=3000, learning_rate=0.05, max_depth=3, max_features='sqrt',\n",
    "                                               min_samples_leaf=15, min_samples_split=10, loss='huber')"
   ]
  },
  {
   "cell_type": "code",
   "execution_count": 38,
   "metadata": {},
   "outputs": [
    {
     "name": "stdout",
     "output_type": "stream",
     "text": [
      "Train R^2: 0.9453283041412262\n",
      "Test R^2: 0.27519384786373935\n"
     ]
    }
   ],
   "source": [
    "GBest.fit(X_train_pitch, y_train_pitch)\n",
    "y_train_pred_gb =  GBest.predict(X_train_pitch)\n",
    "y_pred_gb = GBest.predict(X_test_pitch)\n",
    "\n",
    "\n",
    "train_r2 = r2_score(y_train_pitch, y_train_pred_gb)\n",
    "test_r2 = r2_score(y_test_pitch, y_pred_gb)\n",
    "print('Train R^2: ' + str(train_r2))\n",
    "print('Test R^2: ' + str(test_r2))\n"
   ]
  },
  {
   "cell_type": "code",
   "execution_count": 43,
   "metadata": {},
   "outputs": [
    {
     "name": "stderr",
     "output_type": "stream",
     "text": [
      "[Parallel(n_jobs=-1)]: Using backend ThreadingBackend with 4 concurrent workers.\n",
      "...................................................................................................................................."
     ]
    },
    {
     "name": "stdout",
     "output_type": "stream",
     "text": [
      "R2 of Train LassoCV:  0.45181533212498304\n",
      "R2 of Test LassoCV:  0.4096258417767319\n"
     ]
    },
    {
     "name": "stderr",
     "output_type": "stream",
     "text": [
      "................................................................................................................................................................................................................................................................................................................................................................................[Parallel(n_jobs=-1)]: Done   5 out of   5 | elapsed:    0.3s finished\n"
     ]
    }
   ],
   "source": [
    "lassoCV_model = LassoCV(cv=5, random_state=42, verbose=1, n_jobs = -1)\n",
    "lassoCV_model.fit(X_train_pitch, y_train_pitch)\n",
    "trainr2 = lassoCV_model.score(X_train_pitch, y_train_pitch)\n",
    "testr2 = lassoCV_model.score(X_test_pitch, y_test_pitch)\n",
    "\n",
    "lassoCV_pred = lassoCV_model.predict(X_test_pitch)\n",
    "\n",
    "coef_df = pd.DataFrame()\n",
    "coef_df['features'] = X_train_pitch.columns\n",
    "coef_df['values'] = lassoCV_model.coef_\n",
    "model_coef = coef_df.sort_values(by='values', ascending= False)\n",
    "model_coef\n",
    "print('R2 of Train LassoCV: ', trainr2)\n",
    "print('R2 of Test LassoCV: ', testr2)"
   ]
  },
  {
   "cell_type": "code",
   "execution_count": 42,
   "metadata": {},
   "outputs": [
    {
     "data": {
      "image/png": "[encoded data removed]",
      "text/plain": [
       "<Figure size 720x720 with 1 Axes>"
      ]
     },
     "metadata": {
      "needs_background": "light"
     },
     "output_type": "display_data"
    }
   ],
   "source": [
    "fig, ax = plt.subplots(figsize=(10,10))\n",
    "model_coef.loc[model_coef['values'] !=0].plot.barh(x='features', y= 'values', ax= ax, legend=False)\n",
    "ax.set_ylabel('Features', fontsize=16)\n",
    "ax.set_title('LassoCV Coefficients')\n",
    "\n",
    "plt.savefig('PNG/lassocv_coef.png', dpi=300, \n",
    "            bbox_inches= 'tight', padding_inches = 4, transparent = True )"
   ]
  },
  {
   "cell_type": "code",
   "execution_count": null,
   "metadata": {},
   "outputs": [],
   "source": []
  }
 ],
 "metadata": {
  "kernelspec": {
   "display_name": "Python 3",
   "language": "python",
   "name": "python3"
  },
  "language_info": {
   "codemirror_mode": {
    "name": "ipython",
    "version": 3
   },
   "file_extension": ".py",
   "mimetype": "text/x-python",
   "name": "python",
   "nbconvert_exporter": "python",
   "pygments_lexer": "ipython3",
   "version": "3.8.3"
  }
 },
 "nbformat": 4,
 "nbformat_minor": 4
}
